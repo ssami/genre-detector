{
 "cells": [
  {
   "cell_type": "code",
   "execution_count": 1,
   "metadata": {},
   "outputs": [],
   "source": [
    "# open up the data and display\n",
    "import pandas as pd\n",
    "import re\n",
    "import random\n",
    "import requests"
   ]
  },
  {
   "cell_type": "code",
   "execution_count": 8,
   "metadata": {},
   "outputs": [],
   "source": [
    "def download_feedback_data(model_id): \n",
    "    \"\"\"\n",
    "    Get data from the feedback module per model ID\n",
    "    and return it in a format that can be used directly in training data. \n",
    "    TODO: in the future we should check the minimum length of a feedback text, \n",
    "    and whether it exists in the training or test data. \n",
    "    \"\"\"\n",
    "    feedback = requests.get(f'http://127.0.0.1/feedback/').json()\n",
    "    fb_list = []\n",
    "    for f in feedback: \n",
    "        fb_dict = dict()\n",
    "        fb_dict['description'] = aggressively_clean_text(f['text'])\n",
    "        fb_dict['genre'] = '__label__' + f['label']\n",
    "        fb_list.append(fb_dict)\n",
    "\n",
    "    df = pd.DataFrame(fb_list)\n",
    "    return df"
   ]
  },
  {
   "cell_type": "code",
   "execution_count": 9,
   "metadata": {},
   "outputs": [
    {
     "name": "stdout",
     "output_type": "stream",
     "text": [
      "                              description              genre\n",
      "0                it was the best of times  __label__classics\n",
      "1  it is a truth universally acknowledged  __label__classics\n"
     ]
    }
   ],
   "source": [
    "feedback_df = download_feedback_data(None)\n",
    "print(feedback_df)"
   ]
  },
  {
   "cell_type": "code",
   "execution_count": 10,
   "metadata": {},
   "outputs": [],
   "source": [
    "df = pd.read_csv('/Users/sumi/projects/kaggle-google-books/google-books-dataset/google_books_1299.csv')\n",
    "def cleanup(df): \n",
    "    # clean up columns, save only what we need\n",
    "    df = df.drop(['Unnamed: 0', 'voters', 'ISBN', 'language', 'published_date', 'publisher', 'price', 'currency'],\n",
    "              axis=1)\n",
    "    df = df.rename(columns={'generes': 'genres'})\n",
    "    # use only those entries with genres\n",
    "    total_length = len(df)\n",
    "    genre_df = df[df['genres'] != 'none']\n",
    "    genre_rows = len(genre_df) \n",
    "    print(f'Total length is {total_length} but genre rows are {genre_rows}')\n",
    "    return genre_df"
   ]
  },
  {
   "cell_type": "code",
   "execution_count": 11,
   "metadata": {},
   "outputs": [
    {
     "name": "stdout",
     "output_type": "stream",
     "text": [
      "Total length is 1299 but genre rows are 772\n"
     ]
    },
    {
     "data": {
      "text/html": [
       "<div>\n",
       "<style scoped>\n",
       "    .dataframe tbody tr th:only-of-type {\n",
       "        vertical-align: middle;\n",
       "    }\n",
       "\n",
       "    .dataframe tbody tr th {\n",
       "        vertical-align: top;\n",
       "    }\n",
       "\n",
       "    .dataframe thead th {\n",
       "        text-align: right;\n",
       "    }\n",
       "</style>\n",
       "<table border=\"1\" class=\"dataframe\">\n",
       "  <thead>\n",
       "    <tr style=\"text-align: right;\">\n",
       "      <th></th>\n",
       "      <th>title</th>\n",
       "      <th>author</th>\n",
       "      <th>rating</th>\n",
       "      <th>description</th>\n",
       "      <th>page_count</th>\n",
       "      <th>genres</th>\n",
       "    </tr>\n",
       "  </thead>\n",
       "  <tbody>\n",
       "    <tr>\n",
       "      <th>1</th>\n",
       "      <td>Antiques Roadkill: A Trash 'n' Treasures Mystery</td>\n",
       "      <td>Barbara Allan</td>\n",
       "      <td>3.3</td>\n",
       "      <td>Determined to make a new start in her quaint h...</td>\n",
       "      <td>288</td>\n",
       "      <td>Fiction , Mystery &amp;amp, Detective , Cozy , Gen...</td>\n",
       "    </tr>\n",
       "    <tr>\n",
       "      <th>2</th>\n",
       "      <td>The Art of Super Mario Odyssey</td>\n",
       "      <td>Nintendo</td>\n",
       "      <td>3.9</td>\n",
       "      <td>Take a globetrotting journey all over the worl...</td>\n",
       "      <td>368</td>\n",
       "      <td>Games &amp;amp, Activities , Video &amp;amp, Electronic</td>\n",
       "    </tr>\n",
       "    <tr>\n",
       "      <th>4</th>\n",
       "      <td>The Painted Man (The Demon Cycle, Book 1)</td>\n",
       "      <td>Peter V. Brett</td>\n",
       "      <td>4.5</td>\n",
       "      <td>The stunning debut fantasy novel from author P...</td>\n",
       "      <td>544</td>\n",
       "      <td>Fiction , Fantasy , Dark Fantasy</td>\n",
       "    </tr>\n",
       "    <tr>\n",
       "      <th>6</th>\n",
       "      <td>God of War: The Official Novelization</td>\n",
       "      <td>J.M. Barlog</td>\n",
       "      <td>4.5</td>\n",
       "      <td>The novelization of the highly anticipated God...</td>\n",
       "      <td>400</td>\n",
       "      <td>Fiction , Media Tie-In</td>\n",
       "    </tr>\n",
       "    <tr>\n",
       "      <th>7</th>\n",
       "      <td>Edgedancer: From the Stormlight Archive</td>\n",
       "      <td>Brandon Sanderson</td>\n",
       "      <td>4.8</td>\n",
       "      <td>From #1 New York Times bestselling author Bran...</td>\n",
       "      <td>226</td>\n",
       "      <td>Fiction , Fantasy , Epic</td>\n",
       "    </tr>\n",
       "  </tbody>\n",
       "</table>\n",
       "</div>"
      ],
      "text/plain": [
       "                                              title             author  \\\n",
       "1  Antiques Roadkill: A Trash 'n' Treasures Mystery      Barbara Allan   \n",
       "2                    The Art of Super Mario Odyssey           Nintendo   \n",
       "4         The Painted Man (The Demon Cycle, Book 1)     Peter V. Brett   \n",
       "6             God of War: The Official Novelization        J.M. Barlog   \n",
       "7           Edgedancer: From the Stormlight Archive  Brandon Sanderson   \n",
       "\n",
       "   rating                                        description  page_count  \\\n",
       "1     3.3  Determined to make a new start in her quaint h...         288   \n",
       "2     3.9  Take a globetrotting journey all over the worl...         368   \n",
       "4     4.5  The stunning debut fantasy novel from author P...         544   \n",
       "6     4.5  The novelization of the highly anticipated God...         400   \n",
       "7     4.8  From #1 New York Times bestselling author Bran...         226   \n",
       "\n",
       "                                              genres  \n",
       "1  Fiction , Mystery &amp, Detective , Cozy , Gen...  \n",
       "2    Games &amp, Activities , Video &amp, Electronic  \n",
       "4                   Fiction , Fantasy , Dark Fantasy  \n",
       "6                             Fiction , Media Tie-In  \n",
       "7                           Fiction , Fantasy , Epic  "
      ]
     },
     "execution_count": 11,
     "metadata": {},
     "output_type": "execute_result"
    }
   ],
   "source": [
    "genre_df = cleanup(df)\n",
    "genre_df.head()"
   ]
  },
  {
   "cell_type": "code",
   "execution_count": 12,
   "metadata": {
    "lines_to_next_cell": 1
   },
   "outputs": [],
   "source": [
    "def split_genres(df): \n",
    "    df[['genre_1', 'genre_2', 'genre_3', 'genre_4']] = df.genres.str.split(' , ', expand=True)\n",
    "    df = df.drop(['genres'], axis=1)\n",
    "    return df"
   ]
  },
  {
   "cell_type": "code",
   "execution_count": 13,
   "metadata": {},
   "outputs": [],
   "source": [
    "def genre_choose(df_split):\n",
    "    \"\"\"\n",
    "    # We could try a couple things here:\n",
    "     we can first assume that genre_1 is the closest genre\n",
    "     to what's really going on.\n",
    "     Then we'll see how many unique values are here,\n",
    "     because lots of things are marked \"fiction\".\n",
    "     This was a great place to try streamlit.\n",
    "    :return:\n",
    "    \"\"\"\n",
    "    genre_split = split_genres(df_split)\n",
    "    genre_2_split = genre_split.drop(['genre_1', 'genre_3', 'genre_4'], axis=1).rename(columns={'genre_2': 'genre'})\n",
    "\n",
    "    return genre_2_split"
   ]
  },
  {
   "cell_type": "code",
   "execution_count": 14,
   "metadata": {},
   "outputs": [
    {
     "data": {
      "text/html": [
       "<div>\n",
       "<style scoped>\n",
       "    .dataframe tbody tr th:only-of-type {\n",
       "        vertical-align: middle;\n",
       "    }\n",
       "\n",
       "    .dataframe tbody tr th {\n",
       "        vertical-align: top;\n",
       "    }\n",
       "\n",
       "    .dataframe thead th {\n",
       "        text-align: right;\n",
       "    }\n",
       "</style>\n",
       "<table border=\"1\" class=\"dataframe\">\n",
       "  <thead>\n",
       "    <tr style=\"text-align: right;\">\n",
       "      <th></th>\n",
       "      <th>title</th>\n",
       "      <th>author</th>\n",
       "      <th>rating</th>\n",
       "      <th>description</th>\n",
       "      <th>page_count</th>\n",
       "      <th>genre</th>\n",
       "    </tr>\n",
       "  </thead>\n",
       "  <tbody>\n",
       "    <tr>\n",
       "      <th>1</th>\n",
       "      <td>Antiques Roadkill: A Trash 'n' Treasures Mystery</td>\n",
       "      <td>Barbara Allan</td>\n",
       "      <td>3.3</td>\n",
       "      <td>Determined to make a new start in her quaint h...</td>\n",
       "      <td>288</td>\n",
       "      <td>Mystery &amp;amp, Detective</td>\n",
       "    </tr>\n",
       "    <tr>\n",
       "      <th>2</th>\n",
       "      <td>The Art of Super Mario Odyssey</td>\n",
       "      <td>Nintendo</td>\n",
       "      <td>3.9</td>\n",
       "      <td>Take a globetrotting journey all over the worl...</td>\n",
       "      <td>368</td>\n",
       "      <td>Video &amp;amp, Electronic</td>\n",
       "    </tr>\n",
       "    <tr>\n",
       "      <th>4</th>\n",
       "      <td>The Painted Man (The Demon Cycle, Book 1)</td>\n",
       "      <td>Peter V. Brett</td>\n",
       "      <td>4.5</td>\n",
       "      <td>The stunning debut fantasy novel from author P...</td>\n",
       "      <td>544</td>\n",
       "      <td>Fantasy</td>\n",
       "    </tr>\n",
       "    <tr>\n",
       "      <th>6</th>\n",
       "      <td>God of War: The Official Novelization</td>\n",
       "      <td>J.M. Barlog</td>\n",
       "      <td>4.5</td>\n",
       "      <td>The novelization of the highly anticipated God...</td>\n",
       "      <td>400</td>\n",
       "      <td>Media Tie-In</td>\n",
       "    </tr>\n",
       "    <tr>\n",
       "      <th>7</th>\n",
       "      <td>Edgedancer: From the Stormlight Archive</td>\n",
       "      <td>Brandon Sanderson</td>\n",
       "      <td>4.8</td>\n",
       "      <td>From #1 New York Times bestselling author Bran...</td>\n",
       "      <td>226</td>\n",
       "      <td>Fantasy</td>\n",
       "    </tr>\n",
       "  </tbody>\n",
       "</table>\n",
       "</div>"
      ],
      "text/plain": [
       "                                              title             author  \\\n",
       "1  Antiques Roadkill: A Trash 'n' Treasures Mystery      Barbara Allan   \n",
       "2                    The Art of Super Mario Odyssey           Nintendo   \n",
       "4         The Painted Man (The Demon Cycle, Book 1)     Peter V. Brett   \n",
       "6             God of War: The Official Novelization        J.M. Barlog   \n",
       "7           Edgedancer: From the Stormlight Archive  Brandon Sanderson   \n",
       "\n",
       "   rating                                        description  page_count  \\\n",
       "1     3.3  Determined to make a new start in her quaint h...         288   \n",
       "2     3.9  Take a globetrotting journey all over the worl...         368   \n",
       "4     4.5  The stunning debut fantasy novel from author P...         544   \n",
       "6     4.5  The novelization of the highly anticipated God...         400   \n",
       "7     4.8  From #1 New York Times bestselling author Bran...         226   \n",
       "\n",
       "                     genre  \n",
       "1  Mystery &amp, Detective  \n",
       "2   Video &amp, Electronic  \n",
       "4                  Fantasy  \n",
       "6             Media Tie-In  \n",
       "7                  Fantasy  "
      ]
     },
     "execution_count": 14,
     "metadata": {},
     "output_type": "execute_result"
    }
   ],
   "source": [
    "gen_df = genre_choose(genre_df)\n",
    "gen_df.head()"
   ]
  },
  {
   "cell_type": "markdown",
   "metadata": {},
   "source": [
    "### Now we'll have to do some cleanup and sample correctly"
   ]
  },
  {
   "cell_type": "code",
   "execution_count": 15,
   "metadata": {},
   "outputs": [
    {
     "data": {
      "text/plain": [
       "array(['Mystery &amp, Detective', 'Video &amp, Electronic', 'Fantasy',\n",
       "       'Media Tie-In', 'Medical (incl. Patients)', 'Superheroes',\n",
       "       'Sports', 'Science Fiction', 'Women', 'Humorous Stories',\n",
       "       'Classics', 'Motivational', 'General', 'Noir', 'Leadership',\n",
       "       'Accounting', 'Methods', 'Letters', 'Literary', 'Thrillers',\n",
       "       'Industries', 'Personal Growth', 'Marketing', 'Management',\n",
       "       'Corporate Finance', 'Crime', 'Interpersonal Relations',\n",
       "       'Personal Success', 'Communication &amp, Social Skills',\n",
       "       'Fantasy &amp, Magic', 'Personal Finance', 'Shakespeare', 'Soccer',\n",
       "       'Modern', 'Humorous', 'Action &amp, Adventure',\n",
       "       'Mystery & Detective', 'New Business Enterprises',\n",
       "       'Self-Management', 'Horror', 'LGBT', 'Emotions', 'Reference',\n",
       "       'Economics', 'Action & Adventure', 'Manga',\n",
       "       'Organizational Behavior', 'Conflict Resolution &amp, Mediation',\n",
       "       'Mentoring & Coaching', 'Military', 'Advertising &amp, Promotion',\n",
       "       'Nonfiction', 'E-Commerce', 'Creative Ability',\n",
       "       'Fairy Tales, Folk Tales, Legends &amp, Mythology',\n",
       "       'Neuropsychology', 'Healthy Living', 'Movements',\n",
       "       'Social Psychology', 'Psychological', 'Historical', 'Budgeting',\n",
       "       'Entrepreneurship', 'Management Science', 'Business Communication',\n",
       "       'Electronic Commerce', 'Training',\n",
       "       'Decision-Making &amp, Problem Solving', 'System Administration',\n",
       "       'Literary Figures', 'Internal Medicine', 'Gender Studies',\n",
       "       'Environmental Conservation &amp, Protection', 'Finance',\n",
       "       'Popular Culture', 'Inspiration &amp, Personal Growth',\n",
       "       'Environmentalists &amp, Naturalists', 'Physiological Psychology',\n",
       "       'Civics &amp, Citizenship', 'Workplace Culture',\n",
       "       'Sales &amp, Selling', 'Information Management',\n",
       "       'Science &amp, Technology', 'Public Affairs &amp, Administration',\n",
       "       'Holiday', 'Sociology', 'Public Finance', 'Skills', 'Animals',\n",
       "       'Entertainment &amp, Performing Arts', 'Time Management',\n",
       "       'Personal Memoirs', 'War &amp, Military', 'Family Life',\n",
       "       'Short Stories (single author)', 'Family',\n",
       "       'Motivational &amp, Inspirational',\n",
       "       'Cognitive Psychology &amp, Cognition', 'Friendship',\n",
       "       'Coming of Age', 'History &amp, Surveys', 'Political Ideologies',\n",
       "       'Dystopian', 'Consumer Behavior', 'Careers', 'Essays',\n",
       "       'Strategic Planning', 'Topic',\n",
       "       'Global Warming &amp, Climate Change', 'New Thought',\n",
       "       'Data Processing', 'Curiosities &amp, Wonders',\n",
       "       'Business Mathematics', 'Information Technology', 'Mental Health',\n",
       "       'Form', 'Television', 'Criminology',\n",
       "       'Human Resources &amp, Personnel Management', 'European',\n",
       "       'Rich &amp, Famous', 'Small Town &amp, Rural',\n",
       "       'Investments &amp, Securities', 'Customer Relations',\n",
       "       'Development', 'Social Activists',\n",
       "       'Software Development &amp, Engineering', 'Alternative History',\n",
       "       'Business', 'American', 'Fairy Tales &amp, Folklore',\n",
       "       'Organizational Development', 'Organized Crime',\n",
       "       'Feminism &amp, Feminist Theory', 'Comics &amp, Graphic Novels',\n",
       "       'Genres &amp, Styles', 'Web', 'Life Stages', 'Social Themes',\n",
       "       'Corporate &amp, Business History', 'Desktop Applications',\n",
       "       'Satire', 'Video Game Art', 'Theater', 'Courses &amp, Dishes',\n",
       "       'Health Care Delivery'], dtype=object)"
      ]
     },
     "execution_count": 15,
     "metadata": {},
     "output_type": "execute_result"
    }
   ],
   "source": [
    "gen_df['genre'].unique()"
   ]
  },
  {
   "cell_type": "markdown",
   "metadata": {},
   "source": [
    "# Now it's training time, just with the description"
   ]
  },
  {
   "cell_type": "code",
   "execution_count": 16,
   "metadata": {},
   "outputs": [],
   "source": [
    "relevant_cols = ['description']\n",
    "label_col = 'genre'"
   ]
  },
  {
   "cell_type": "code",
   "execution_count": 17,
   "metadata": {},
   "outputs": [],
   "source": [
    "def aggressively_clean_text(t):\n",
    "    t = t.lower()\n",
    "    t = re.sub(r\"\\W\", ' ', t)\n",
    "    return t"
   ]
  },
  {
   "cell_type": "code",
   "execution_count": 18,
   "metadata": {},
   "outputs": [],
   "source": [
    "def aggressively_clean_label(t): \n",
    "    t = re.sub(r\"&amp,\", '&', t)\n",
    "    t = re.sub(r\"[\\( | \\) | \\&]\", ' ', t)\n",
    "    t = re.sub(r\"\\s\", '_', t)\n",
    "\n",
    "    t = t.lower()\n",
    "    t = '__label__' + t\n",
    "    return t"
   ]
  },
  {
   "cell_type": "code",
   "execution_count": 19,
   "metadata": {},
   "outputs": [
    {
     "data": {
      "text/plain": [
       "1    determined to make a new start in her quaint h...\n",
       "2    take a globetrotting journey all over the worl...\n",
       "4    the stunning debut fantasy novel from author p...\n",
       "6    the novelization of the highly anticipated god...\n",
       "7    from  1 new york times bestselling author bran...\n",
       "Name: description, dtype: object"
      ]
     },
     "execution_count": 19,
     "metadata": {},
     "output_type": "execute_result"
    }
   ],
   "source": [
    "genre_labels = gen_df[label_col].apply(aggressively_clean_label)\n",
    "cleaned_descr = gen_df['description'].apply(aggressively_clean_text)\n",
    "cleaned_descr.head()"
   ]
  },
  {
   "cell_type": "code",
   "execution_count": 20,
   "metadata": {},
   "outputs": [
    {
     "data": {
      "text/plain": [
       "1    __label__mystery___detective\n",
       "2     __label__video___electronic\n",
       "4                __label__fantasy\n",
       "6           __label__media_tie-in\n",
       "7                __label__fantasy\n",
       "Name: genre, dtype: object"
      ]
     },
     "execution_count": 20,
     "metadata": {},
     "output_type": "execute_result"
    }
   ],
   "source": [
    "genre_labels.head()"
   ]
  },
  {
   "cell_type": "code",
   "execution_count": 21,
   "metadata": {},
   "outputs": [
    {
     "data": {
      "text/html": [
       "<div>\n",
       "<style scoped>\n",
       "    .dataframe tbody tr th:only-of-type {\n",
       "        vertical-align: middle;\n",
       "    }\n",
       "\n",
       "    .dataframe tbody tr th {\n",
       "        vertical-align: top;\n",
       "    }\n",
       "\n",
       "    .dataframe thead th {\n",
       "        text-align: right;\n",
       "    }\n",
       "</style>\n",
       "<table border=\"1\" class=\"dataframe\">\n",
       "  <thead>\n",
       "    <tr style=\"text-align: right;\">\n",
       "      <th></th>\n",
       "      <th>title</th>\n",
       "      <th>author</th>\n",
       "      <th>rating</th>\n",
       "      <th>description</th>\n",
       "      <th>page_count</th>\n",
       "      <th>genre_x</th>\n",
       "      <th>genre_y</th>\n",
       "    </tr>\n",
       "  </thead>\n",
       "  <tbody>\n",
       "    <tr>\n",
       "      <th>1</th>\n",
       "      <td>Antiques Roadkill: A Trash 'n' Treasures Mystery</td>\n",
       "      <td>Barbara Allan</td>\n",
       "      <td>3.3</td>\n",
       "      <td>Determined to make a new start in her quaint h...</td>\n",
       "      <td>288</td>\n",
       "      <td>Mystery &amp;amp, Detective</td>\n",
       "      <td>__label__mystery___detective</td>\n",
       "    </tr>\n",
       "    <tr>\n",
       "      <th>2</th>\n",
       "      <td>The Art of Super Mario Odyssey</td>\n",
       "      <td>Nintendo</td>\n",
       "      <td>3.9</td>\n",
       "      <td>Take a globetrotting journey all over the worl...</td>\n",
       "      <td>368</td>\n",
       "      <td>Video &amp;amp, Electronic</td>\n",
       "      <td>__label__video___electronic</td>\n",
       "    </tr>\n",
       "    <tr>\n",
       "      <th>4</th>\n",
       "      <td>The Painted Man (The Demon Cycle, Book 1)</td>\n",
       "      <td>Peter V. Brett</td>\n",
       "      <td>4.5</td>\n",
       "      <td>The stunning debut fantasy novel from author P...</td>\n",
       "      <td>544</td>\n",
       "      <td>Fantasy</td>\n",
       "      <td>__label__fantasy</td>\n",
       "    </tr>\n",
       "    <tr>\n",
       "      <th>6</th>\n",
       "      <td>God of War: The Official Novelization</td>\n",
       "      <td>J.M. Barlog</td>\n",
       "      <td>4.5</td>\n",
       "      <td>The novelization of the highly anticipated God...</td>\n",
       "      <td>400</td>\n",
       "      <td>Media Tie-In</td>\n",
       "      <td>__label__media_tie-in</td>\n",
       "    </tr>\n",
       "    <tr>\n",
       "      <th>7</th>\n",
       "      <td>Edgedancer: From the Stormlight Archive</td>\n",
       "      <td>Brandon Sanderson</td>\n",
       "      <td>4.8</td>\n",
       "      <td>From #1 New York Times bestselling author Bran...</td>\n",
       "      <td>226</td>\n",
       "      <td>Fantasy</td>\n",
       "      <td>__label__fantasy</td>\n",
       "    </tr>\n",
       "  </tbody>\n",
       "</table>\n",
       "</div>"
      ],
      "text/plain": [
       "                                              title             author  \\\n",
       "1  Antiques Roadkill: A Trash 'n' Treasures Mystery      Barbara Allan   \n",
       "2                    The Art of Super Mario Odyssey           Nintendo   \n",
       "4         The Painted Man (The Demon Cycle, Book 1)     Peter V. Brett   \n",
       "6             God of War: The Official Novelization        J.M. Barlog   \n",
       "7           Edgedancer: From the Stormlight Archive  Brandon Sanderson   \n",
       "\n",
       "   rating                                        description  page_count  \\\n",
       "1     3.3  Determined to make a new start in her quaint h...         288   \n",
       "2     3.9  Take a globetrotting journey all over the worl...         368   \n",
       "4     4.5  The stunning debut fantasy novel from author P...         544   \n",
       "6     4.5  The novelization of the highly anticipated God...         400   \n",
       "7     4.8  From #1 New York Times bestselling author Bran...         226   \n",
       "\n",
       "                   genre_x                       genre_y  \n",
       "1  Mystery &amp, Detective  __label__mystery___detective  \n",
       "2   Video &amp, Electronic   __label__video___electronic  \n",
       "4                  Fantasy              __label__fantasy  \n",
       "6             Media Tie-In         __label__media_tie-in  \n",
       "7                  Fantasy              __label__fantasy  "
      ]
     },
     "execution_count": 21,
     "metadata": {},
     "output_type": "execute_result"
    }
   ],
   "source": [
    "cleaned_full_df = pd.DataFrame.merge(gen_df, genre_labels, left_index=True, right_index=True)\n",
    "cleaned_full_df.head()"
   ]
  },
  {
   "cell_type": "code",
   "execution_count": 22,
   "metadata": {},
   "outputs": [
    {
     "data": {
      "text/html": [
       "<div>\n",
       "<style scoped>\n",
       "    .dataframe tbody tr th:only-of-type {\n",
       "        vertical-align: middle;\n",
       "    }\n",
       "\n",
       "    .dataframe tbody tr th {\n",
       "        vertical-align: top;\n",
       "    }\n",
       "\n",
       "    .dataframe thead th {\n",
       "        text-align: right;\n",
       "    }\n",
       "</style>\n",
       "<table border=\"1\" class=\"dataframe\">\n",
       "  <thead>\n",
       "    <tr style=\"text-align: right;\">\n",
       "      <th></th>\n",
       "      <th>title</th>\n",
       "      <th>author</th>\n",
       "      <th>rating</th>\n",
       "      <th>description_x</th>\n",
       "      <th>page_count</th>\n",
       "      <th>genre_x</th>\n",
       "      <th>genre_y</th>\n",
       "      <th>description_y</th>\n",
       "    </tr>\n",
       "  </thead>\n",
       "  <tbody>\n",
       "    <tr>\n",
       "      <th>1</th>\n",
       "      <td>Antiques Roadkill: A Trash 'n' Treasures Mystery</td>\n",
       "      <td>Barbara Allan</td>\n",
       "      <td>3.3</td>\n",
       "      <td>Determined to make a new start in her quaint h...</td>\n",
       "      <td>288</td>\n",
       "      <td>Mystery &amp;amp, Detective</td>\n",
       "      <td>__label__mystery___detective</td>\n",
       "      <td>determined to make a new start in her quaint h...</td>\n",
       "    </tr>\n",
       "    <tr>\n",
       "      <th>2</th>\n",
       "      <td>The Art of Super Mario Odyssey</td>\n",
       "      <td>Nintendo</td>\n",
       "      <td>3.9</td>\n",
       "      <td>Take a globetrotting journey all over the worl...</td>\n",
       "      <td>368</td>\n",
       "      <td>Video &amp;amp, Electronic</td>\n",
       "      <td>__label__video___electronic</td>\n",
       "      <td>take a globetrotting journey all over the worl...</td>\n",
       "    </tr>\n",
       "    <tr>\n",
       "      <th>4</th>\n",
       "      <td>The Painted Man (The Demon Cycle, Book 1)</td>\n",
       "      <td>Peter V. Brett</td>\n",
       "      <td>4.5</td>\n",
       "      <td>The stunning debut fantasy novel from author P...</td>\n",
       "      <td>544</td>\n",
       "      <td>Fantasy</td>\n",
       "      <td>__label__fantasy</td>\n",
       "      <td>the stunning debut fantasy novel from author p...</td>\n",
       "    </tr>\n",
       "    <tr>\n",
       "      <th>6</th>\n",
       "      <td>God of War: The Official Novelization</td>\n",
       "      <td>J.M. Barlog</td>\n",
       "      <td>4.5</td>\n",
       "      <td>The novelization of the highly anticipated God...</td>\n",
       "      <td>400</td>\n",
       "      <td>Media Tie-In</td>\n",
       "      <td>__label__media_tie-in</td>\n",
       "      <td>the novelization of the highly anticipated god...</td>\n",
       "    </tr>\n",
       "    <tr>\n",
       "      <th>7</th>\n",
       "      <td>Edgedancer: From the Stormlight Archive</td>\n",
       "      <td>Brandon Sanderson</td>\n",
       "      <td>4.8</td>\n",
       "      <td>From #1 New York Times bestselling author Bran...</td>\n",
       "      <td>226</td>\n",
       "      <td>Fantasy</td>\n",
       "      <td>__label__fantasy</td>\n",
       "      <td>from  1 new york times bestselling author bran...</td>\n",
       "    </tr>\n",
       "  </tbody>\n",
       "</table>\n",
       "</div>"
      ],
      "text/plain": [
       "                                              title             author  \\\n",
       "1  Antiques Roadkill: A Trash 'n' Treasures Mystery      Barbara Allan   \n",
       "2                    The Art of Super Mario Odyssey           Nintendo   \n",
       "4         The Painted Man (The Demon Cycle, Book 1)     Peter V. Brett   \n",
       "6             God of War: The Official Novelization        J.M. Barlog   \n",
       "7           Edgedancer: From the Stormlight Archive  Brandon Sanderson   \n",
       "\n",
       "   rating                                      description_x  page_count  \\\n",
       "1     3.3  Determined to make a new start in her quaint h...         288   \n",
       "2     3.9  Take a globetrotting journey all over the worl...         368   \n",
       "4     4.5  The stunning debut fantasy novel from author P...         544   \n",
       "6     4.5  The novelization of the highly anticipated God...         400   \n",
       "7     4.8  From #1 New York Times bestselling author Bran...         226   \n",
       "\n",
       "                   genre_x                       genre_y  \\\n",
       "1  Mystery &amp, Detective  __label__mystery___detective   \n",
       "2   Video &amp, Electronic   __label__video___electronic   \n",
       "4                  Fantasy              __label__fantasy   \n",
       "6             Media Tie-In         __label__media_tie-in   \n",
       "7                  Fantasy              __label__fantasy   \n",
       "\n",
       "                                       description_y  \n",
       "1  determined to make a new start in her quaint h...  \n",
       "2  take a globetrotting journey all over the worl...  \n",
       "4  the stunning debut fantasy novel from author p...  \n",
       "6  the novelization of the highly anticipated god...  \n",
       "7  from  1 new york times bestselling author bran...  "
      ]
     },
     "execution_count": 22,
     "metadata": {},
     "output_type": "execute_result"
    }
   ],
   "source": [
    "cleaned_df = pd.DataFrame.merge(cleaned_full_df, cleaned_descr, left_index=True, right_index=True)\n",
    "cleaned_df.head()"
   ]
  },
  {
   "cell_type": "code",
   "execution_count": 23,
   "metadata": {},
   "outputs": [
    {
     "data": {
      "text/html": [
       "<div>\n",
       "<style scoped>\n",
       "    .dataframe tbody tr th:only-of-type {\n",
       "        vertical-align: middle;\n",
       "    }\n",
       "\n",
       "    .dataframe tbody tr th {\n",
       "        vertical-align: top;\n",
       "    }\n",
       "\n",
       "    .dataframe thead th {\n",
       "        text-align: right;\n",
       "    }\n",
       "</style>\n",
       "<table border=\"1\" class=\"dataframe\">\n",
       "  <thead>\n",
       "    <tr style=\"text-align: right;\">\n",
       "      <th></th>\n",
       "      <th>title</th>\n",
       "      <th>author</th>\n",
       "      <th>rating</th>\n",
       "      <th>page_count</th>\n",
       "      <th>genre</th>\n",
       "      <th>description</th>\n",
       "    </tr>\n",
       "  </thead>\n",
       "  <tbody>\n",
       "    <tr>\n",
       "      <th>1</th>\n",
       "      <td>Antiques Roadkill: A Trash 'n' Treasures Mystery</td>\n",
       "      <td>Barbara Allan</td>\n",
       "      <td>3.3</td>\n",
       "      <td>288</td>\n",
       "      <td>__label__mystery___detective</td>\n",
       "      <td>determined to make a new start in her quaint h...</td>\n",
       "    </tr>\n",
       "    <tr>\n",
       "      <th>2</th>\n",
       "      <td>The Art of Super Mario Odyssey</td>\n",
       "      <td>Nintendo</td>\n",
       "      <td>3.9</td>\n",
       "      <td>368</td>\n",
       "      <td>__label__video___electronic</td>\n",
       "      <td>take a globetrotting journey all over the worl...</td>\n",
       "    </tr>\n",
       "    <tr>\n",
       "      <th>4</th>\n",
       "      <td>The Painted Man (The Demon Cycle, Book 1)</td>\n",
       "      <td>Peter V. Brett</td>\n",
       "      <td>4.5</td>\n",
       "      <td>544</td>\n",
       "      <td>__label__fantasy</td>\n",
       "      <td>the stunning debut fantasy novel from author p...</td>\n",
       "    </tr>\n",
       "    <tr>\n",
       "      <th>6</th>\n",
       "      <td>God of War: The Official Novelization</td>\n",
       "      <td>J.M. Barlog</td>\n",
       "      <td>4.5</td>\n",
       "      <td>400</td>\n",
       "      <td>__label__media_tie-in</td>\n",
       "      <td>the novelization of the highly anticipated god...</td>\n",
       "    </tr>\n",
       "    <tr>\n",
       "      <th>7</th>\n",
       "      <td>Edgedancer: From the Stormlight Archive</td>\n",
       "      <td>Brandon Sanderson</td>\n",
       "      <td>4.8</td>\n",
       "      <td>226</td>\n",
       "      <td>__label__fantasy</td>\n",
       "      <td>from  1 new york times bestselling author bran...</td>\n",
       "    </tr>\n",
       "  </tbody>\n",
       "</table>\n",
       "</div>"
      ],
      "text/plain": [
       "                                              title             author  \\\n",
       "1  Antiques Roadkill: A Trash 'n' Treasures Mystery      Barbara Allan   \n",
       "2                    The Art of Super Mario Odyssey           Nintendo   \n",
       "4         The Painted Man (The Demon Cycle, Book 1)     Peter V. Brett   \n",
       "6             God of War: The Official Novelization        J.M. Barlog   \n",
       "7           Edgedancer: From the Stormlight Archive  Brandon Sanderson   \n",
       "\n",
       "   rating  page_count                         genre  \\\n",
       "1     3.3         288  __label__mystery___detective   \n",
       "2     3.9         368   __label__video___electronic   \n",
       "4     4.5         544              __label__fantasy   \n",
       "6     4.5         400         __label__media_tie-in   \n",
       "7     4.8         226              __label__fantasy   \n",
       "\n",
       "                                         description  \n",
       "1  determined to make a new start in her quaint h...  \n",
       "2  take a globetrotting journey all over the worl...  \n",
       "4  the stunning debut fantasy novel from author p...  \n",
       "6  the novelization of the highly anticipated god...  \n",
       "7  from  1 new york times bestselling author bran...  "
      ]
     },
     "execution_count": 23,
     "metadata": {},
     "output_type": "execute_result"
    }
   ],
   "source": [
    "cleaned_df = cleaned_df.drop(['genre_x', 'description_x'], axis=1).rename(columns={'description_y': 'description', 'genre_y': 'genre'})\n",
    "cleaned_df.head()"
   ]
  },
  {
   "cell_type": "code",
   "execution_count": 27,
   "metadata": {},
   "outputs": [
    {
     "name": "stdout",
     "output_type": "stream",
     "text": [
      "                                                 title             author  \\\n",
      "0     Antiques Roadkill: A Trash 'n' Treasures Mystery      Barbara Allan   \n",
      "1                       The Art of Super Mario Odyssey           Nintendo   \n",
      "2            The Painted Man (The Demon Cycle, Book 1)     Peter V. Brett   \n",
      "3                God of War: The Official Novelization        J.M. Barlog   \n",
      "4              Edgedancer: From the Stormlight Archive  Brandon Sanderson   \n",
      "..                                                 ...                ...   \n",
      "769  Twas The Nightshift Before Christmas: Festive ...           Adam Kay   \n",
      "770  Why We Sleep: The New Science of Sleep and Dreams     Matthew Walker   \n",
      "771           W is for Wasted: A Kinsey Millhone Novel        Sue Grafton   \n",
      "772                                                NaN                NaN   \n",
      "773                                                NaN                NaN   \n",
      "\n",
      "     rating  page_count                                      genre  \\\n",
      "0       3.3       288.0               __label__mystery___detective   \n",
      "1       3.9       368.0                __label__video___electronic   \n",
      "2       4.5       544.0                           __label__fantasy   \n",
      "3       4.5       400.0                      __label__media_tie-in   \n",
      "4       4.8       226.0                           __label__fantasy   \n",
      "..      ...         ...                                        ...   \n",
      "769     4.7       112.0              __label__health_care_delivery   \n",
      "770     4.8       368.0  __label__cognitive_psychology___cognition   \n",
      "771     4.3       448.0                         __label__thrillers   \n",
      "772     NaN         NaN                          __label__classics   \n",
      "773     NaN         NaN                          __label__classics   \n",
      "\n",
      "                                           description  \n",
      "0    determined to make a new start in her quaint h...  \n",
      "1    take a globetrotting journey all over the worl...  \n",
      "2    the stunning debut fantasy novel from author p...  \n",
      "3    the novelization of the highly anticipated god...  \n",
      "4    from  1 new york times bestselling author bran...  \n",
      "..                                                 ...  \n",
      "769  a short gift book of festive hospital diaries ...  \n",
      "770   astonishing     an amazing book     absolutel...  \n",
      "771  private investigator kinsey millhone finds sho...  \n",
      "772                           it was the best of times  \n",
      "773             it is a truth universally acknowledged  \n",
      "\n",
      "[774 rows x 6 columns]\n"
     ]
    }
   ],
   "source": [
    "final_df = pd.concat([cleaned_df, feedback_df], ignore_index=True)\n",
    "print(final_df)"
   ]
  },
  {
   "cell_type": "code",
   "execution_count": 36,
   "metadata": {},
   "outputs": [],
   "source": [
    "data_labels = cleaned_df['genre'] + ' ' + cleaned_df['description']\n",
    "train_percentage = 0.8\n",
    "test_percentage = 1.0 - train_percentage"
   ]
  },
  {
   "cell_type": "markdown",
   "metadata": {},
   "source": [
    "## Make train/test split"
   ]
  },
  {
   "cell_type": "code",
   "execution_count": 37,
   "metadata": {},
   "outputs": [],
   "source": [
    "train_data = data_labels.sample(frac=train_percentage).to_csv('train_genre.txt', header=False, index=False)\n",
    "test_df = data_labels.sample(frac=test_percentage).to_csv('test_genre.txt', header=False, index=False)"
   ]
  },
  {
   "cell_type": "markdown",
   "metadata": {},
   "source": [
    "# Train fasttext model"
   ]
  },
  {
   "cell_type": "code",
   "execution_count": 38,
   "metadata": {},
   "outputs": [
    {
     "name": "stdout",
     "output_type": "stream",
     "text": [
      "Top n: 1 Samples: 153 Precision: 0.1830065359477124 Recall: 0.1830065359477124 F1: 0.1830065359477124\n",
      "Top n: 2 Samples: 153 Precision: 0.16339869281045752 Recall: 0.32679738562091504 F1: 0.21786492374727667\n",
      "Top n: 3 Samples: 153 Precision: 0.14814814814814814 Recall: 0.4444444444444444 F1: 0.2222222222222222\n",
      "Top n: 4 Samples: 153 Precision: 0.13562091503267973 Recall: 0.5424836601307189 F1: 0.21699346405228756\n"
     ]
    }
   ],
   "source": [
    "import fasttext\n",
    "model = fasttext.train_supervised('train_genre.txt')\n",
    "for i in range(4): \n",
    "    samples, precision, recall = model.test('test_genre.txt', k=i+1)\n",
    "    f1_score = 2*precision*recall/(precision+recall)\n",
    "    print(f\"Top n: {i+1} Samples: {samples} Precision: {precision} Recall: {recall} F1: {f1_score}\")"
   ]
  },
  {
   "cell_type": "code",
   "execution_count": 39,
   "metadata": {},
   "outputs": [],
   "source": [
    "test_none_df = df[df['genres'] == 'none']\n",
    "test_none_df.to_csv('none_genres.csv')"
   ]
  },
  {
   "cell_type": "code",
   "execution_count": 40,
   "metadata": {},
   "outputs": [
    {
     "data": {
      "text/plain": [
       "(('__label__fantasy',), array([0.0087898]))"
      ]
     },
     "execution_count": 40,
     "metadata": {},
     "output_type": "execute_result"
    }
   ],
   "source": [
    "test_descr = test_none_df.iloc[0]['description']\n",
    "cleaned_test = aggressively_clean_text(test_descr)\n",
    "model.predict(cleaned_test)"
   ]
  },
  {
   "cell_type": "code",
   "execution_count": 41,
   "metadata": {},
   "outputs": [
    {
     "name": "stdout",
     "output_type": "stream",
     "text": [
      "now the best selling book of its kind has gotten even better this revised and expanded second edition of ittelson s master work will give you that firm grasp of  the numbers  necessary for business success  with more than 100 000 copies in print  financial statements is a perfect introduction to financial accounting for non financial managers  stock market investors  undergraduate business and mba students  lawyers  lenders  entrepreneurs  and more most introductory finance and accounting books fail either because they are written  by accountants for accountants  or the authors  dumb down  the concepts until they are virtually useless  financial statements deftly shows that all this accounting and financial reporting stuff is not rocket science and that you can understand it  ittelson empowers non financial managers by clearly and simply demonstrating how the balance sheet  income statement and cash flow statement work together to offer a  snapshot  of any company s financial health  every term is defined in simple  understandable language  every concept is explained with a basic  straightforward transaction example  and with the book s uniquely visual approach  you ll be able to see exactly how each transaction affects the three key financial statement of the enterprise two new major sections with nine new chapters were added to this revised second edition of financial statements  simply the clearest and most comprehensive introduction to financial reporting available \n"
     ]
    },
    {
     "data": {
      "text/plain": [
       "(('__label__fantasy',), array([0.00857839]))"
      ]
     },
     "execution_count": 41,
     "metadata": {},
     "output_type": "execute_result"
    }
   ],
   "source": [
    "test_descr = test_none_df.iloc[500]['description']\n",
    "cleaned_test = aggressively_clean_text(test_descr)\n",
    "print(cleaned_test)\n",
    "model.predict(cleaned_test)"
   ]
  },
  {
   "cell_type": "markdown",
   "metadata": {},
   "source": [
    "### Well, so far everything is being recognized as \"fantasy\".  Let's try more rigorous training. "
   ]
  },
  {
   "cell_type": "code",
   "execution_count": 42,
   "metadata": {},
   "outputs": [
    {
     "name": "stdout",
     "output_type": "stream",
     "text": [
      "Top n: 1 Samples: 153 Precision: 0.26143790849673204 Recall: 0.26143790849673204 F1: 0.26143790849673204\n",
      "Top n: 2 Samples: 153 Precision: 0.16339869281045752 Recall: 0.32679738562091504 F1: 0.21786492374727667\n",
      "Top n: 3 Samples: 153 Precision: 0.14814814814814814 Recall: 0.4444444444444444 F1: 0.2222222222222222\n",
      "Top n: 4 Samples: 153 Precision: 0.12581699346405228 Recall: 0.5032679738562091 F1: 0.20130718954248364\n"
     ]
    }
   ],
   "source": [
    "model = fasttext.train_supervised('train_genre.txt', epoch=25, lr=0.1)\n",
    "for i in range(4): \n",
    "    samples, precision, recall = model.test('test_genre.txt', k=i+1)\n",
    "    f1_score = 2*precision*recall/(precision+recall)\n",
    "    print(f\"Top n: {i+1} Samples: {samples} Precision: {precision} Recall: {recall} F1: {f1_score}\")"
   ]
  },
  {
   "cell_type": "markdown",
   "metadata": {},
   "source": [
    "This is exactly as bad, so we really do have to do some downsampling on fantasy and sci-fi. Let's look at the breakdown. "
   ]
  },
  {
   "cell_type": "code",
   "execution_count": 43,
   "metadata": {},
   "outputs": [],
   "source": [
    "counts = cleaned_df['genre'].value_counts()\n",
    "pd.set_option('display.max_rows', 500)"
   ]
  },
  {
   "cell_type": "code",
   "execution_count": 44,
   "metadata": {},
   "outputs": [
    {
     "name": "stdout",
     "output_type": "stream",
     "text": [
      "__label__mystery___detective                             108\n",
      "__label__fantasy                                         104\n",
      "__label__thrillers                                        75\n",
      "__label__general                                          60\n",
      "__label__science_fiction                                  47\n",
      "__label__superheroes                                      35\n",
      "__label__action___adventure                               24\n",
      "__label__personal_growth                                  23\n",
      "__label__motivational                                     14\n",
      "__label__crime                                            12\n",
      "__label__personal_finance                                 11\n",
      "__label__classics                                         10\n",
      "__label__horror                                           10\n",
      "__label__accounting                                        9\n",
      "__label__fantasy___magic                                   7\n",
      "__label__mentoring___coaching                              6\n",
      "__label__literary                                          6\n",
      "__label__personal_success                                  5\n",
      "__label__economics                                         5\n",
      "__label__motivational___inspirational                      4\n",
      "__label__industries                                        4\n",
      "__label__psychological                                     4\n",
      "__label__management                                        4\n",
      "__label__media_tie-in                                      4\n",
      "__label__leadership                                        4\n",
      "__label__self-management                                   4\n",
      "__label__humorous_stories                                  3\n",
      "__label__e-commerce                                        3\n",
      "__label__humorous                                          3\n",
      "__label__women                                             3\n",
      "__label__decision-making___problem_solving                 3\n",
      "__label__dystopian                                         3\n",
      "__label__sociology                                         3\n",
      "__label__workplace_culture                                 3\n",
      "__label__inspiration___personal_growth                     3\n",
      "__label__cognitive_psychology___cognition                  3\n",
      "__label__marketing                                         3\n",
      "__label__communication___social_skills                     3\n",
      "__label__social_psychology                                 3\n",
      "__label__time_management                                   3\n",
      "__label__military                                          3\n",
      "__label__personal_memoirs                                  3\n",
      "__label__entrepreneurship                                  3\n",
      "__label__finance                                           3\n",
      "__label__friendship                                        2\n",
      "__label__movements                                         2\n",
      "__label__essays                                            2\n",
      "__label__neuropsychology                                   2\n",
      "__label__history___surveys                                 2\n",
      "__label__animals                                           2\n",
      "__label__lgbt                                              2\n",
      "__label__reference                                         2\n",
      "__label__manga                                             2\n",
      "__label__emotions                                          2\n",
      "__label__war___military                                    2\n",
      "__label__business_communication                            2\n",
      "__label__topic                                             2\n",
      "__label__video___electronic                                2\n",
      "__label__fairy_tales,_folk_tales,_legends___mythology      2\n",
      "__label__consumer_behavior                                 2\n",
      "__label__popular_culture                                   2\n",
      "__label__budgeting                                         2\n",
      "__label__entertainment___performing_arts                   2\n",
      "__label__methods                                           1\n",
      "__label__organizational_development                        1\n",
      "__label__software_development___engineering                1\n",
      "__label__comics___graphic_novels                           1\n",
      "__label__creative_ability                                  1\n",
      "__label__soccer                                            1\n",
      "__label__feminism___feminist_theory                        1\n",
      "__label__global_warming___climate_change                   1\n",
      "__label__development                                       1\n",
      "__label__healthy_living                                    1\n",
      "__label__information_technology                            1\n",
      "__label__television                                        1\n",
      "__label__social_activists                                  1\n",
      "__label__sports                                            1\n",
      "__label__organizational_behavior                           1\n",
      "__label__health_care_delivery                              1\n",
      "__label__public_finance                                    1\n",
      "__label__science___technology                              1\n",
      "__label__civics___citizenship                              1\n",
      "__label__new_thought                                       1\n",
      "__label__corporate_finance                                 1\n",
      "__label__medical__incl._patients_                          1\n",
      "__label__data_processing                                   1\n",
      "__label__mental_health                                     1\n",
      "__label__holiday                                           1\n",
      "__label__fairy_tales___folklore                            1\n",
      "__label__criminology                                       1\n",
      "__label__electronic_commerce                               1\n",
      "__label__business_mathematics                              1\n",
      "__label__training                                          1\n",
      "__label__rich___famous                                     1\n",
      "__label__sales___selling                                   1\n",
      "__label__strategic_planning                                1\n",
      "__label__skills                                            1\n",
      "__label__family_life                                       1\n",
      "__label__internal_medicine                                 1\n",
      "__label__short_stories__single_author_                     1\n",
      "__label__system_administration                             1\n",
      "__label__life_stages                                       1\n",
      "__label__business                                          1\n",
      "__label__web                                               1\n",
      "__label__organized_crime                                   1\n",
      "__label__coming_of_age                                     1\n",
      "__label__gender_studies                                    1\n",
      "__label__american                                          1\n",
      "__label__desktop_applications                              1\n",
      "__label__video_game_art                                    1\n",
      "__label__public_affairs___administration                   1\n",
      "__label__customer_relations                                1\n",
      "__label__modern                                            1\n",
      "__label__political_ideologies                              1\n",
      "__label__human_resources___personnel_management            1\n",
      "__label__genres___styles                                   1\n",
      "__label__family                                            1\n",
      "__label__environmental_conservation___protection           1\n",
      "__label__small_town___rural                                1\n",
      "__label__noir                                              1\n",
      "__label__information_management                            1\n",
      "__label__interpersonal_relations                           1\n",
      "__label__european                                          1\n",
      "__label__environmentalists___naturalists                   1\n",
      "__label__management_science                                1\n",
      "__label__investments___securities                          1\n",
      "__label__letters                                           1\n",
      "__label__historical                                        1\n",
      "__label__form                                              1\n",
      "__label__physiological_psychology                          1\n",
      "__label__courses___dishes                                  1\n",
      "__label__shakespeare                                       1\n",
      "__label__theater                                           1\n",
      "__label__literary_figures                                  1\n",
      "__label__curiosities___wonders                             1\n",
      "__label__careers                                           1\n",
      "__label__social_themes                                     1\n",
      "__label__conflict_resolution___mediation                   1\n",
      "__label__corporate___business_history                      1\n",
      "__label__advertising___promotion                           1\n",
      "__label__satire                                            1\n",
      "__label__new_business_enterprises                          1\n",
      "__label__alternative_history                               1\n",
      "__label__nonfiction                                        1\n",
      "Name: genre, dtype: int64\n"
     ]
    }
   ],
   "source": [
    "print(counts)"
   ]
  },
  {
   "cell_type": "markdown",
   "metadata": {},
   "source": [
    "Clearly a number of these could be combined, but we're not going to bother predicting the much smaller datasets. Instead, we'll cut off those that have < 10 samples. \n",
    "And anything that's > 50 samples, we'll downsample. \n",
    "In fact, there's a scikit package that does upsampling and downsampling!"
   ]
  },
  {
   "cell_type": "code",
   "execution_count": 45,
   "metadata": {},
   "outputs": [],
   "source": [
    "count_dict = counts.to_dict()"
   ]
  },
  {
   "cell_type": "code",
   "execution_count": 46,
   "metadata": {},
   "outputs": [],
   "source": [
    "for label, count in count_dict.items():\n",
    "    if count < 10:\n",
    "        cleaned_df = cleaned_df[cleaned_df['genre'] != label] "
   ]
  },
  {
   "cell_type": "code",
   "execution_count": 47,
   "metadata": {},
   "outputs": [
    {
     "data": {
      "text/plain": [
       "__label__mystery___detective    108\n",
       "__label__fantasy                104\n",
       "__label__thrillers               75\n",
       "__label__general                 60\n",
       "__label__science_fiction         47\n",
       "__label__superheroes             35\n",
       "__label__action___adventure      24\n",
       "__label__personal_growth         23\n",
       "__label__motivational            14\n",
       "__label__crime                   12\n",
       "__label__personal_finance        11\n",
       "__label__classics                10\n",
       "__label__horror                  10\n",
       "Name: genre, dtype: int64"
      ]
     },
     "execution_count": 47,
     "metadata": {},
     "output_type": "execute_result"
    }
   ],
   "source": [
    "cleaned_df['genre'].value_counts()"
   ]
  },
  {
   "cell_type": "markdown",
   "metadata": {},
   "source": [
    "# Now for the re-sampling"
   ]
  },
  {
   "cell_type": "code",
   "execution_count": 48,
   "metadata": {},
   "outputs": [
    {
     "data": {
      "text/html": [
       "<div>\n",
       "<style scoped>\n",
       "    .dataframe tbody tr th:only-of-type {\n",
       "        vertical-align: middle;\n",
       "    }\n",
       "\n",
       "    .dataframe tbody tr th {\n",
       "        vertical-align: top;\n",
       "    }\n",
       "\n",
       "    .dataframe thead th {\n",
       "        text-align: right;\n",
       "    }\n",
       "</style>\n",
       "<table border=\"1\" class=\"dataframe\">\n",
       "  <thead>\n",
       "    <tr style=\"text-align: right;\">\n",
       "      <th></th>\n",
       "      <th>title</th>\n",
       "      <th>author</th>\n",
       "      <th>rating</th>\n",
       "      <th>page_count</th>\n",
       "      <th>genre</th>\n",
       "      <th>description</th>\n",
       "    </tr>\n",
       "  </thead>\n",
       "  <tbody>\n",
       "    <tr>\n",
       "      <th>25</th>\n",
       "      <td>Prince of Thorns (The Broken Empire, Book 1)</td>\n",
       "      <td>Mark Lawrence</td>\n",
       "      <td>4.2</td>\n",
       "      <td>416</td>\n",
       "      <td>__label__classics</td>\n",
       "      <td>from the publisher that brought you game of th...</td>\n",
       "    </tr>\n",
       "    <tr>\n",
       "      <th>247</th>\n",
       "      <td>War and Peace: With bonus material from Give W...</td>\n",
       "      <td>Leo Tolstoy</td>\n",
       "      <td>4.3</td>\n",
       "      <td>1400</td>\n",
       "      <td>__label__classics</td>\n",
       "      <td>war and peace is considered one of the world s...</td>\n",
       "    </tr>\n",
       "    <tr>\n",
       "      <th>250</th>\n",
       "      <td>And Then There Were None</td>\n",
       "      <td>Agatha Christie</td>\n",
       "      <td>4.6</td>\n",
       "      <td>224</td>\n",
       "      <td>__label__classics</td>\n",
       "      <td>agatha christie s world famous mystery thrille...</td>\n",
       "    </tr>\n",
       "    <tr>\n",
       "      <th>347</th>\n",
       "      <td>The Mysterious Affair at Styles (Poirot)</td>\n",
       "      <td>Agatha Christie</td>\n",
       "      <td>4.6</td>\n",
       "      <td>208</td>\n",
       "      <td>__label__classics</td>\n",
       "      <td>agatha christie s first ever murder mystery  w...</td>\n",
       "    </tr>\n",
       "    <tr>\n",
       "      <th>491</th>\n",
       "      <td>The Mysterious Affair at Styles</td>\n",
       "      <td>Agatha Christie</td>\n",
       "      <td>4.4</td>\n",
       "      <td>208</td>\n",
       "      <td>__label__classics</td>\n",
       "      <td>agatha christie s first ever murder mystery  i...</td>\n",
       "    </tr>\n",
       "  </tbody>\n",
       "</table>\n",
       "</div>"
      ],
      "text/plain": [
       "                                                 title           author  \\\n",
       "25        Prince of Thorns (The Broken Empire, Book 1)    Mark Lawrence   \n",
       "247  War and Peace: With bonus material from Give W...      Leo Tolstoy   \n",
       "250                           And Then There Were None  Agatha Christie   \n",
       "347           The Mysterious Affair at Styles (Poirot)  Agatha Christie   \n",
       "491                    The Mysterious Affair at Styles  Agatha Christie   \n",
       "\n",
       "     rating  page_count              genre  \\\n",
       "25      4.2         416  __label__classics   \n",
       "247     4.3        1400  __label__classics   \n",
       "250     4.6         224  __label__classics   \n",
       "347     4.6         208  __label__classics   \n",
       "491     4.4         208  __label__classics   \n",
       "\n",
       "                                           description  \n",
       "25   from the publisher that brought you game of th...  \n",
       "247  war and peace is considered one of the world s...  \n",
       "250  agatha christie s world famous mystery thrille...  \n",
       "347  agatha christie s first ever murder mystery  w...  \n",
       "491  agatha christie s first ever murder mystery  i...  "
      ]
     },
     "execution_count": 48,
     "metadata": {},
     "output_type": "execute_result"
    }
   ],
   "source": [
    "from sklearn.utils import resample\n",
    "\n",
    "# let's try a resampling of smaller data first\n",
    "df_classics = cleaned_df[cleaned_df['genre'] == '__label__classics']\n",
    "df_classics.head()"
   ]
  },
  {
   "cell_type": "code",
   "execution_count": 49,
   "metadata": {},
   "outputs": [
    {
     "data": {
      "text/plain": [
       "100"
      ]
     },
     "execution_count": 49,
     "metadata": {},
     "output_type": "execute_result"
    }
   ],
   "source": [
    "df_classics_sampled = resample(df_classics, \n",
    "                              replace=True,\n",
    "                              n_samples=100, \n",
    "                              random_state=123)\n",
    "len(df_classics_sampled)"
   ]
  },
  {
   "cell_type": "code",
   "execution_count": 50,
   "metadata": {},
   "outputs": [],
   "source": [
    "# Now let's do the same for all the low-sample counts\n",
    "upsampled_dfs = []\n",
    "cutoff_counts = cleaned_df['genre'].value_counts().to_dict()\n",
    "for label, count in cutoff_counts.items(): \n",
    "    if count < 100: \n",
    "        df_ = resample(cleaned_df[cleaned_df['genre'] == label], \n",
    "                        replace=True,\n",
    "                        n_samples=100, \n",
    "                        random_state=123\n",
    "                      )\n",
    "        upsampled_dfs.append(df_)"
   ]
  },
  {
   "cell_type": "code",
   "execution_count": 51,
   "metadata": {},
   "outputs": [
    {
     "data": {
      "text/html": [
       "<div>\n",
       "<style scoped>\n",
       "    .dataframe tbody tr th:only-of-type {\n",
       "        vertical-align: middle;\n",
       "    }\n",
       "\n",
       "    .dataframe tbody tr th {\n",
       "        vertical-align: top;\n",
       "    }\n",
       "\n",
       "    .dataframe thead th {\n",
       "        text-align: right;\n",
       "    }\n",
       "</style>\n",
       "<table border=\"1\" class=\"dataframe\">\n",
       "  <thead>\n",
       "    <tr style=\"text-align: right;\">\n",
       "      <th></th>\n",
       "      <th>title</th>\n",
       "      <th>author</th>\n",
       "      <th>rating</th>\n",
       "      <th>page_count</th>\n",
       "      <th>genre</th>\n",
       "      <th>description</th>\n",
       "    </tr>\n",
       "  </thead>\n",
       "  <tbody>\n",
       "    <tr>\n",
       "      <th>369</th>\n",
       "      <td>Salvaged</td>\n",
       "      <td>Madeleine Roux</td>\n",
       "      <td>4.0</td>\n",
       "      <td>368</td>\n",
       "      <td>__label__horror</td>\n",
       "      <td>a woman on the run  a captain adrift in space ...</td>\n",
       "    </tr>\n",
       "    <tr>\n",
       "      <th>369</th>\n",
       "      <td>Salvaged</td>\n",
       "      <td>Madeleine Roux</td>\n",
       "      <td>4.0</td>\n",
       "      <td>368</td>\n",
       "      <td>__label__horror</td>\n",
       "      <td>a woman on the run  a captain adrift in space ...</td>\n",
       "    </tr>\n",
       "    <tr>\n",
       "      <th>882</th>\n",
       "      <td>The Walking Dead: Compendium 1</td>\n",
       "      <td>Robert Kirkman</td>\n",
       "      <td>4.5</td>\n",
       "      <td>28</td>\n",
       "      <td>__label__horror</td>\n",
       "      <td>the walking dead compendium vol  1 is here  co...</td>\n",
       "    </tr>\n",
       "    <tr>\n",
       "      <th>325</th>\n",
       "      <td>The Call of Cthulhu</td>\n",
       "      <td>H. P. Lovecraft</td>\n",
       "      <td>4.9</td>\n",
       "      <td>49</td>\n",
       "      <td>__label__horror</td>\n",
       "      <td>the call of cthulhu is a story by american wri...</td>\n",
       "    </tr>\n",
       "    <tr>\n",
       "      <th>530</th>\n",
       "      <td>The Mysterious Affair at Styles</td>\n",
       "      <td>Agatha Christie</td>\n",
       "      <td>4.4</td>\n",
       "      <td>208</td>\n",
       "      <td>__label__horror</td>\n",
       "      <td>agatha christie s first ever murder mystery  i...</td>\n",
       "    </tr>\n",
       "  </tbody>\n",
       "</table>\n",
       "</div>"
      ],
      "text/plain": [
       "                               title           author  rating  page_count  \\\n",
       "369                         Salvaged   Madeleine Roux     4.0         368   \n",
       "369                         Salvaged   Madeleine Roux     4.0         368   \n",
       "882   The Walking Dead: Compendium 1   Robert Kirkman     4.5          28   \n",
       "325              The Call of Cthulhu  H. P. Lovecraft     4.9          49   \n",
       "530  The Mysterious Affair at Styles  Agatha Christie     4.4         208   \n",
       "\n",
       "               genre                                        description  \n",
       "369  __label__horror  a woman on the run  a captain adrift in space ...  \n",
       "369  __label__horror  a woman on the run  a captain adrift in space ...  \n",
       "882  __label__horror  the walking dead compendium vol  1 is here  co...  \n",
       "325  __label__horror  the call of cthulhu is a story by american wri...  \n",
       "530  __label__horror  agatha christie s first ever murder mystery  i...  "
      ]
     },
     "execution_count": 51,
     "metadata": {},
     "output_type": "execute_result"
    }
   ],
   "source": [
    "upsampled_dfs[-1].head()"
   ]
  },
  {
   "cell_type": "code",
   "execution_count": 52,
   "metadata": {},
   "outputs": [
    {
     "name": "stdout",
     "output_type": "stream",
     "text": [
      "13\n"
     ]
    }
   ],
   "source": [
    "for label, count in cutoff_counts.items(): \n",
    "    if count >= 100: \n",
    "        big_sample = cleaned_df[cleaned_df['genre'] == label]\n",
    "        upsampled_dfs.append(big_sample)\n",
    "print(len(upsampled_dfs))\n",
    "sample_concat_samples = pd.concat(upsampled_dfs)"
   ]
  },
  {
   "cell_type": "code",
   "execution_count": 53,
   "metadata": {},
   "outputs": [
    {
     "data": {
      "text/plain": [
       "1312"
      ]
     },
     "execution_count": 53,
     "metadata": {},
     "output_type": "execute_result"
    }
   ],
   "source": [
    "len(sample_concat_samples)"
   ]
  },
  {
   "cell_type": "code",
   "execution_count": 60,
   "metadata": {},
   "outputs": [
    {
     "data": {
      "text/html": [
       "<div>\n",
       "<style scoped>\n",
       "    .dataframe tbody tr th:only-of-type {\n",
       "        vertical-align: middle;\n",
       "    }\n",
       "\n",
       "    .dataframe tbody tr th {\n",
       "        vertical-align: top;\n",
       "    }\n",
       "\n",
       "    .dataframe thead th {\n",
       "        text-align: right;\n",
       "    }\n",
       "</style>\n",
       "<table border=\"1\" class=\"dataframe\">\n",
       "  <thead>\n",
       "    <tr style=\"text-align: right;\">\n",
       "      <th></th>\n",
       "      <th>title</th>\n",
       "      <th>author</th>\n",
       "      <th>rating</th>\n",
       "      <th>page_count</th>\n",
       "      <th>genre</th>\n",
       "      <th>description</th>\n",
       "    </tr>\n",
       "  </thead>\n",
       "  <tbody>\n",
       "    <tr>\n",
       "      <th>0</th>\n",
       "      <td>Ready Player One</td>\n",
       "      <td>Ernest Cline</td>\n",
       "      <td>4.6</td>\n",
       "      <td>384</td>\n",
       "      <td>__label__thrillers</td>\n",
       "      <td>nominated as one of america s best loved novel...</td>\n",
       "    </tr>\n",
       "    <tr>\n",
       "      <th>1</th>\n",
       "      <td>Predictably Irrational: The Hidden Forces that...</td>\n",
       "      <td>Dan Ariely</td>\n",
       "      <td>4.0</td>\n",
       "      <td>304</td>\n",
       "      <td>__label__personal_growth</td>\n",
       "      <td>why do smart people make irrational decisions ...</td>\n",
       "    </tr>\n",
       "    <tr>\n",
       "      <th>2</th>\n",
       "      <td>The Fires of Heaven: Book Five of 'The Wheel o...</td>\n",
       "      <td>Robert Jordan</td>\n",
       "      <td>4.6</td>\n",
       "      <td>704</td>\n",
       "      <td>__label__fantasy</td>\n",
       "      <td>the wheel of time   is a pbs great american re...</td>\n",
       "    </tr>\n",
       "    <tr>\n",
       "      <th>3</th>\n",
       "      <td>Death in an Elegant City: An English Village M...</td>\n",
       "      <td>Sara Rosett</td>\n",
       "      <td>3.9</td>\n",
       "      <td>254</td>\n",
       "      <td>__label__mystery___detective</td>\n",
       "      <td>sightseeing can be murder  location scout kate...</td>\n",
       "    </tr>\n",
       "    <tr>\n",
       "      <th>4</th>\n",
       "      <td>Invincible #118</td>\n",
       "      <td>Robert Kirkman</td>\n",
       "      <td>4.0</td>\n",
       "      <td>32</td>\n",
       "      <td>__label__superheroes</td>\n",
       "      <td>invincible and atom eve set off on the adventu...</td>\n",
       "    </tr>\n",
       "  </tbody>\n",
       "</table>\n",
       "</div>"
      ],
      "text/plain": [
       "                                               title          author  rating  \\\n",
       "0                                   Ready Player One    Ernest Cline     4.6   \n",
       "1  Predictably Irrational: The Hidden Forces that...      Dan Ariely     4.0   \n",
       "2  The Fires of Heaven: Book Five of 'The Wheel o...   Robert Jordan     4.6   \n",
       "3  Death in an Elegant City: An English Village M...     Sara Rosett     3.9   \n",
       "4                                    Invincible #118  Robert Kirkman     4.0   \n",
       "\n",
       "   page_count                         genre  \\\n",
       "0         384            __label__thrillers   \n",
       "1         304      __label__personal_growth   \n",
       "2         704              __label__fantasy   \n",
       "3         254  __label__mystery___detective   \n",
       "4          32          __label__superheroes   \n",
       "\n",
       "                                         description  \n",
       "0  nominated as one of america s best loved novel...  \n",
       "1  why do smart people make irrational decisions ...  \n",
       "2  the wheel of time   is a pbs great american re...  \n",
       "3  sightseeing can be murder  location scout kate...  \n",
       "4  invincible and atom eve set off on the adventu...  "
      ]
     },
     "execution_count": 60,
     "metadata": {},
     "output_type": "execute_result"
    }
   ],
   "source": [
    "# shuffle, reset the index, and drop the new index\n",
    "final_training_df = sample_concat_samples.sample(frac=1).reset_index(drop=True)\n",
    "final_training_df.head()"
   ]
  },
  {
   "cell_type": "markdown",
   "metadata": {},
   "source": [
    "Just checking that the samples are pretty evenly distributed. "
   ]
  },
  {
   "cell_type": "code",
   "execution_count": 61,
   "metadata": {},
   "outputs": [
    {
     "name": "stdout",
     "output_type": "stream",
     "text": [
      "{'__label__mystery___detective': 0, '__label__fantasy': 1, '__label__thrillers': 2, '__label__general': 3, '__label__science_fiction': 4, '__label__superheroes': 5, '__label__action___adventure': 6, '__label__personal_growth': 7, '__label__motivational': 8, '__label__crime': 9, '__label__personal_finance': 10, '__label__classics': 11, '__label__horror': 12}\n"
     ]
    },
    {
     "data": {
      "text/plain": [
       "array([[<matplotlib.axes._subplots.AxesSubplot object at 0x130c807d0>]],\n",
       "      dtype=object)"
      ]
     },
     "execution_count": 61,
     "metadata": {},
     "output_type": "execute_result"
    },
    {
     "data": {
      "image/png": "[encoded data removed]",
      "text/plain": [
       "<Figure size 432x288 with 1 Axes>"
      ]
     },
     "metadata": {
      "needs_background": "light"
     },
     "output_type": "display_data"
    }
   ],
   "source": [
    "hist_df = final_training_df.copy()\n",
    "value_counts = cleaned_df['genre'].value_counts()\n",
    "genre_map = dict()\n",
    "i = 0\n",
    "for index,value in value_counts.items(): \n",
    "    genre_map[index] = i\n",
    "    i += 1\n",
    "print(genre_map)\n",
    "hist_df['genre_map'] = hist_df['genre'].apply(lambda x: genre_map[x])\n",
    "hist_df.hist(column='genre_map', bins=len(genre_map))"
   ]
  },
  {
   "cell_type": "markdown",
   "metadata": {},
   "source": [
    "# Part 3, Add feedback "
   ]
  },
  {
   "cell_type": "code",
   "execution_count": 71,
   "metadata": {},
   "outputs": [],
   "source": [
    "fb_df = download_feedback_data('1590302222')\n",
    "train_df = final_training_df[['genre', 'description']]\n",
    "final_df = pd.concat([fb_df, train_df], ignore_index=True)"
   ]
  },
  {
   "cell_type": "code",
   "execution_count": 72,
   "metadata": {},
   "outputs": [
    {
     "data": {
      "text/html": [
       "<div>\n",
       "<style scoped>\n",
       "    .dataframe tbody tr th:only-of-type {\n",
       "        vertical-align: middle;\n",
       "    }\n",
       "\n",
       "    .dataframe tbody tr th {\n",
       "        vertical-align: top;\n",
       "    }\n",
       "\n",
       "    .dataframe thead th {\n",
       "        text-align: right;\n",
       "    }\n",
       "</style>\n",
       "<table border=\"1\" class=\"dataframe\">\n",
       "  <thead>\n",
       "    <tr style=\"text-align: right;\">\n",
       "      <th></th>\n",
       "      <th>description</th>\n",
       "      <th>genre</th>\n",
       "    </tr>\n",
       "  </thead>\n",
       "  <tbody>\n",
       "    <tr>\n",
       "      <th>0</th>\n",
       "      <td>Sherlock Holmes</td>\n",
       "      <td>__label__crime</td>\n",
       "    </tr>\n",
       "    <tr>\n",
       "      <th>1</th>\n",
       "      <td>blah</td>\n",
       "      <td>__label__mystery___detective</td>\n",
       "    </tr>\n",
       "    <tr>\n",
       "      <th>2</th>\n",
       "      <td>ofuhsdfuhsdf aosudhaposfdh d;foihsodgfsfg</td>\n",
       "      <td>__label__action___adventure</td>\n",
       "    </tr>\n",
       "    <tr>\n",
       "      <th>3</th>\n",
       "      <td>nominated as one of america s best loved novel...</td>\n",
       "      <td>__label__thrillers</td>\n",
       "    </tr>\n",
       "    <tr>\n",
       "      <th>4</th>\n",
       "      <td>why do smart people make irrational decisions ...</td>\n",
       "      <td>__label__personal_growth</td>\n",
       "    </tr>\n",
       "  </tbody>\n",
       "</table>\n",
       "</div>"
      ],
      "text/plain": [
       "                                         description  \\\n",
       "0                                    Sherlock Holmes   \n",
       "1                                               blah   \n",
       "2          ofuhsdfuhsdf aosudhaposfdh d;foihsodgfsfg   \n",
       "3  nominated as one of america s best loved novel...   \n",
       "4  why do smart people make irrational decisions ...   \n",
       "\n",
       "                          genre  \n",
       "0                __label__crime  \n",
       "1  __label__mystery___detective  \n",
       "2   __label__action___adventure  \n",
       "3            __label__thrillers  \n",
       "4      __label__personal_growth  "
      ]
     },
     "execution_count": 72,
     "metadata": {},
     "output_type": "execute_result"
    }
   ],
   "source": [
    "final_df.head()"
   ]
  },
  {
   "cell_type": "markdown",
   "metadata": {},
   "source": [
    "# Part 2, Make Train Test Split"
   ]
  },
  {
   "cell_type": "code",
   "execution_count": 73,
   "metadata": {},
   "outputs": [],
   "source": [
    "data_labels = final_df['genre'] + '\\t' + final_df['description']\n",
    "train_percentage = 0.8\n",
    "test_percentage = 1.0 - train_percentage\n",
    "train_data = data_labels.sample(frac=train_percentage).to_csv('train_genre.txt', header=False, index=False)\n",
    "test_df = data_labels.sample(frac=test_percentage).to_csv('test_genre.txt', header=False, index=False)"
   ]
  },
  {
   "cell_type": "markdown",
   "metadata": {},
   "source": [
    "# Part 3, Train Model and Test: this time with some hyperparameter tuning"
   ]
  },
  {
   "cell_type": "code",
   "execution_count": 75,
   "metadata": {},
   "outputs": [
    {
     "name": "stdout",
     "output_type": "stream",
     "text": [
      "Top n: 1 Samples: 263 Precision: 0.21292775665399238 Recall: 0.21292775665399238 F1: 0.21292775665399238\n",
      "Top n: 2 Samples: 263 Precision: 0.17870722433460076 Recall: 0.3574144486692015 F1: 0.238276299112801\n",
      "Top n: 3 Samples: 263 Precision: 0.13688212927756654 Recall: 0.41064638783269963 F1: 0.20532319391634982\n",
      "Top n: 4 Samples: 263 Precision: 0.15494296577946767 Recall: 0.6197718631178707 F1: 0.2479087452471483\n"
     ]
    }
   ],
   "source": [
    "import fasttext\n",
    "\n",
    "model = fasttext.train_supervised('train_genre.txt')\n",
    "for i in range(4): \n",
    "    samples, precision, recall = model.test('test_genre.txt', k=i+1)\n",
    "    f1_score = 2*precision*recall/(precision+recall)\n",
    "    print(f\"Top n: {i+1} Samples: {samples} Precision: {precision} Recall: {recall} F1: {f1_score}\")"
   ]
  },
  {
   "cell_type": "markdown",
   "metadata": {},
   "source": [
    "Now let's do a random prediction of a number of inputs"
   ]
  },
  {
   "cell_type": "code",
   "execution_count": 76,
   "metadata": {},
   "outputs": [],
   "source": [
    "def printout_predictions(model): \n",
    "    test_non_df = pd.read_csv('none_genres.csv')\n",
    "    # pick some random indexes\n",
    "    randoms = []\n",
    "    for _ in range(5): \n",
    "        randoms.append(random.randint(0, len(test_non_df)))\n",
    "\n",
    "    for i in range(len(test_non_df)):     \n",
    "        test_descr = test_none_df.iloc[i]['description']\n",
    "        cleaned_test = aggressively_clean_text(test_descr)\n",
    "        prediction = model.predict(cleaned_test)\n",
    "        print(f\"{i}: {cleaned_test[:100]}, prediction: {prediction}\")"
   ]
  },
  {
   "cell_type": "markdown",
   "metadata": {},
   "source": [
    "## Let's go one step further and use fastText's auto hyperparameter tuning with the test file"
   ]
  },
  {
   "cell_type": "code",
   "execution_count": 77,
   "metadata": {},
   "outputs": [
    {
     "name": "stdout",
     "output_type": "stream",
     "text": [
      "Top n: 1 Samples: 263 Precision: 0.7376425855513308 Recall: 0.7376425855513308 F1: 0.7376425855513308\n",
      "Top n: 2 Samples: 263 Precision: 0.4752851711026616 Recall: 0.9505703422053232 F1: 0.6337135614702155\n",
      "Top n: 3 Samples: 263 Precision: 0.32953105196451205 Recall: 0.9885931558935361 F1: 0.49429657794676807\n",
      "Top n: 4 Samples: 263 Precision: 0.24904942965779467 Recall: 0.9961977186311787 F1: 0.3984790874524715\n"
     ]
    }
   ],
   "source": [
    "import fasttext\n",
    "\n",
    "model = fasttext.train_supervised('train_genre.txt', autotuneValidationFile='test_genre.txt')\n",
    "for i in range(4): \n",
    "    samples, precision, recall = model.test('test_genre.txt', k=i+1)\n",
    "    f1_score = 2*precision*recall/(precision+recall)\n",
    "    print(f\"Top n: {i+1} Samples: {samples} Precision: {precision} Recall: {recall} F1: {f1_score}\")"
   ]
  },
  {
   "cell_type": "code",
   "execution_count": 111,
   "metadata": {},
   "outputs": [
    {
     "name": "stdout",
     "output_type": "stream",
     "text": [
      "0: no safe place left at great cost to the garrison and the survey corps  commander erwin has managed t, prediction: (('__label__fantasy',), array([0.58589464]))\n",
      "1: with swollen feet and swelling belly  pregnant ellie bravely joins the nation s tourists in seeing t, prediction: (('__label__mystery___detective',), array([0.94599605]))\n",
      "2: hbo s hit series a game of thrones is based on george r  r  martin s internationally bestselling ser, prediction: (('__label__action___adventure',), array([0.50901055]))\n",
      "3: agatha christie s first ever murder mystery  with impeccable timing hercule poirot  the renowned bel, prediction: (('__label__classics',), array([0.71170104]))\n",
      "4: a bundle of books  1  once gone  and  2  once taken  in blake pierce s riley paige mystery series a , prediction: (('__label__mystery___detective',), array([0.50813937]))\n",
      "5: a classic agatha christie short story  available individually for the first time as an ebook  sir al, prediction: (('__label__mystery___detective',), array([0.96404719]))\n",
      "6: mikami s middle age hasn t gone as he planned  he never found a girlfriend  he got stuck in a dead e, prediction: (('__label__thrillers',), array([0.68861854]))\n",
      "7: collects ultimate spider man 60 65  one of the most ruthless villains in the history of the marvel u, prediction: (('__label__superheroes',), array([0.996764]))\n",
      "8: agatha christie s first ever murder mystery  with impeccable timing hercule poirot  the renowned bel, prediction: (('__label__classics',), array([0.71170104]))\n",
      "9: from the creators of the hit show  critical role  comes vox machina s origin story  writers matthew , prediction: (('__label__fantasy',), array([0.28249687]))\n",
      "10: the sunday times bestseller coming from glasgow  it s weird  i don t really tell jokes  like irish j, prediction: (('__label__general',), array([0.82239443]))\n",
      "11:  sometimes we can t see what s right in front of us  kat  everyone has secrets  even the people we l, prediction: (('__label__thrillers',), array([0.52751768]))\n",
      "12: have you ever        invested time in something that  in hindsight  just wasn t worth it   paid too , prediction: (('__label__personal_growth',), array([0.42439783]))\n",
      "13: this carefully crafted ebook   the complete works of william shakespeare  is formatted for your erea, prediction: (('__label__fantasy',), array([0.38338751]))\n",
      "14: this is no way to live  like so many others  you can now enjoy your own personal success story by ma, prediction: (('__label__personal_growth',), array([0.59666044]))\n",
      "15: nominated as one of america s best loved novels by pbs s the great american read  the worldwide best, prediction: (('__label__science_fiction',), array([0.57570708]))\n",
      "16: freelance writer jaine austen thought working for a knock off reality show in the tropics would be p, prediction: (('__label__mystery___detective',), array([0.94995821]))\n",
      "17: witness batman s first encounter with the joker in this volume collecting the graphic novel batman  , prediction: (('__label__superheroes',), array([1.00000429]))\n",
      "18:  this was some read  now i know what it means when people say a book was unputdownable  i just had t, prediction: (('__label__crime',), array([0.68976766]))\n",
      "19: michaella was just a regular girl  spending the summer working at a bar in ibiza  until she was appr, prediction: (('__label__general',), array([0.96484762]))\n",
      "20: the essential stock market guide for beginners  updated with timely strategies for investing your mo, prediction: (('__label__personal_finance',), array([0.98800164]))\n",
      "21: no 1 ebook bestseller  a sunday times top 10 paperback bestseller  a usa today paperback bestseller , prediction: (('__label__thrillers',), array([0.60553515]))\n",
      "22: in this extraordinary fantasy epic  the  1 new york times bestselling author of the dresden files le, prediction: (('__label__fantasy',), array([0.97626311]))\n",
      "23: hbo s hit series a game of thrones is based on george r r martin s internationally bestselling serie, prediction: (('__label__action___adventure',), array([0.51895165]))\n",
      "24: influence  the classic book on persuasion  explains the psychology of why people say  yes  and how t, prediction: (('__label__motivational',), array([0.90301186]))\n",
      "25: the wheel of time   is a pbs great american read selection  now in development for tv  since its deb, prediction: (('__label__fantasy',), array([0.97292227]))\n",
      "26: a new   york times bestseller         a new edition of one of the most important and critically accl, prediction: (('__label__superheroes',), array([0.99572003]))\n",
      "27: no safe place left at great cost to the garrison and the survey corps  commander erwin has managed t, prediction: (('__label__fantasy',), array([0.58589464]))\n",
      "28: boasting more than two million pageviews per month  theawkwardyeti com has become a webcomic staple , prediction: (('__label__general',), array([0.53546315]))\n",
      "29: boasting more than two million pageviews per month  theawkwardyeti com has become a webcomic staple , prediction: (('__label__general',), array([0.53546315]))\n",
      "30: book eight in the new york times and usa today bestselling rose gardner mystery series  rose gardner, prediction: (('__label__mystery___detective',), array([0.8954798]))\n",
      "31: the new york times bestselling batman writer and artist team of scott snyder and greg capullo re uni, prediction: (('__label__superheroes',), array([0.99801522]))\n",
      "32: boasting some of sherlock holmes s finest adventures  this classic 1894 collection was originally wr, prediction: (('__label__fantasy',), array([0.54695684]))\n",
      "33: new york times bestseller  edward snowden  the man who risked everything to expose the us government, prediction: (('__label__science_fiction',), array([0.32222778]))\n",
      "34: if gunnery sergeant zane hall wants to save his family s ranch  he ll need to fix up the buildings  , prediction: (('__label__mystery___detective',), array([0.42743096]))\n",
      "35:  1 new york times bestseller   red rising thrilled readers and announced the presence of a talented , prediction: (('__label__action___adventure',), array([0.62680787]))\n",
      "36: from the publisher that brought you game of thrones    prince of thorns is the first volume in a pow, prediction: (('__label__classics',), array([0.86324733]))\n",
      "37:  morgan rice has come up with what promises to be another brilliant series  immersing us in a fantas, prediction: (('__label__science_fiction',), array([0.47044951]))\n",
      "38: why do smart people make irrational decisions every day  the answers will surprise you  predictably , prediction: (('__label__general',), array([0.63744885]))\n",
      "39: a short gift book of festive hospital diaries from the author of million copy bestseller this is goi, prediction: (('__label__general',), array([0.94776028]))\n",
      "40: the dresden files have taken the genre of paranormal mystery to a new level of action  excitement  a, prediction: (('__label__fantasy',), array([0.61458468]))\n",
      "41: the new york times bestselling freakonomics changed the way we see the world  exposing the hidden si, prediction: (('__label__general',), array([0.44807497]))\n",
      "42: the ancient magic of wizards was anything but dark  it was the enlightenment that lifted humanity fr, prediction: (('__label__fantasy',), array([0.98366159]))\n",
      "43: hbo s hit series a game of thrones is based on george r  r  martin s internationally bestselling ser, prediction: (('__label__action___adventure',), array([0.50901055]))\n",
      "44: private investigator kinsey millhone finds shocking connections between two seemingly unrelated deat, prediction: (('__label__thrillers',), array([0.85048854]))\n",
      "45: a novella set in the universe of james s  a  corey s new york times bestselling expanse series  aube, prediction: (('__label__science_fiction',), array([0.97806895]))\n",
      "46: a sample of offerings from international fantasy superstar andrzej sapkowski  and the perfect introd, prediction: (('__label__fantasy',), array([0.99610806]))\n",
      "47:  an action packed fantasy sure to please fans of morgan rice s previous novels  along with fans of w, prediction: (('__label__science_fiction',), array([0.79845124]))\n",
      "48: it s time to stop procrastinating and get more of the important things done  after all  successful p, prediction: (('__label__motivational',), array([0.96828067]))\n",
      "49: which sort of seducer could you be  siren  rake  cold coquette  star  comedian  charismatic  or sain, prediction: (('__label__personal_growth',), array([0.56071693]))\n",
      "50:  a dynamic story line that grips from the first chapter and doesn t let go     midwest book review  , prediction: (('__label__mystery___detective',), array([0.72592372]))\n",
      "51: why do some people achieve all their goals while others simply dream of having a better life  with o, prediction: (('__label__motivational',), array([0.54648149]))\n",
      "52: determined to make a new start in her quaint hometown on the banks of the mississippi  brandy borne , prediction: (('__label__mystery___detective',), array([0.97555649]))\n",
      "53: the wheel of time   is a pbs great american read selection  now in development for tv  since its deb, prediction: (('__label__fantasy',), array([0.97292227]))\n",
      "54: do you buy things without need do you buy things to feel happy  if the answer is  yes  then you need, prediction: (('__label__personal_finance',), array([0.58333361]))\n",
      "55: do you want to become invaluable to your company  of course you do  the unparalleled key to achievin, prediction: (('__label__general',), array([0.88426751]))\n",
      "56: in her debut mystery  chocolate chip cookie murder  intrepid amateur sleuth and bakery owner hannah , prediction: (('__label__mystery___detective',), array([0.96405691]))\n",
      "57: batman and robin hit the streets with a bang in their new flying batmobile to face an assemblage of , prediction: (('__label__superheroes',), array([0.99529922]))\n",
      "58: may 1992  and after four lapd officers are acquitted following the savage beating of rodney king  lo, prediction: (('__label__crime',), array([0.86309761]))\n",
      "59:  i have stolen princesses back from sleeping barrow kings  i burned down the town of trebon  i have , prediction: (('__label__fantasy',), array([0.93514502]))\n",
      "60: it s time to stop procrastinating and get more of the important things done  after all  successful p, prediction: (('__label__motivational',), array([0.96828067]))\n",
      "61: the wheel of time   is a pbs great american read selection  now in development for tv  since its deb, prediction: (('__label__fantasy',), array([0.98610318]))\n",
      "62:  you will be blown away   ain t it cool news brian azzarello brings to the joker all the visceral in, prediction: (('__label__superheroes',), array([0.98816955]))\n",
      "63: as the former chairman and ceo of thomas nelson publishers  author michael hyatt gained insight on t, prediction: (('__label__general',), array([0.95718306]))\n",
      "64:  a literary masterpiece       at once erudite and intimate  reflective and funny       it has the gr, prediction: (('__label__action___adventure',), array([0.70435196]))\n",
      "65: ten months ago  samantha hunt set off for work and was never seen again    despite the statistics of, prediction: (('__label__mystery___detective',), array([0.93687105]))\n",
      "66: now an amazon original series    winner of the hugo award   the single most resonant and carefully i, prediction: (('__label__science_fiction',), array([0.85747033]))\n",
      "67: shall we tell the president is an enthralling  fast paced thriller from the bestselling author of ka, prediction: (('__label__thrillers',), array([0.48738256]))\n",
      "68: the world has fallen into war  ciri  the child of prophecy  has vanished  hunted by friends and foes, prediction: (('__label__fantasy',), array([0.98423713]))\n",
      "69: in wrecking ball  book 14 of the diary of a wimpy kid series from  1 international bestselling autho, prediction: (('__label__general',), array([0.46378937]))\n",
      "70: this cookbook contains 15 delicious slow cooker recipes like sweet and sour pork  beef stew  turkey , prediction: (('__label__general',), array([0.9052459]))\n",
      "71: new york times bestseller   the bestselling author of morning star returns to the red rising univers, prediction: (('__label__science_fiction',), array([0.59733456]))\n",
      "72: collecting  marvel universe vs  the punisher  1 4, prediction: (('__label__superheroes',), array([1.00001001]))\n",
      "73: from his rooms in baker street  sherlock holmes grapples with forces of deceit  intrigue  and evil i, prediction: (('__label__classics',), array([0.63049728]))\n",
      "74: the lady has spoken to me     it has already begun    shadows move out of the shrinking desert  sout, prediction: (('__label__fantasy',), array([0.9983291]))\n",
      "75: what s black  white  and dead all over     from the pages of last year s best selling new ways to di, prediction: (('__label__superheroes',), array([0.71049738]))\n",
      "76: from the author of harry s game   a sunday times  100 best crime novels and thrillers since 1945  pi, prediction: (('__label__thrillers',), array([0.82835519]))\n",
      "77: ibrahim al brehm is a respectable husband a police inspector on jeddah s murder squad  but for the p, prediction: (('__label__crime',), array([0.86546218]))\n",
      "78:  1 new york times bestseller   a historian of fascism offers a guide for surviving and resisting ame, prediction: (('__label__general',), array([0.31219524]))\n",
      "79: from the new york times bestselling author of down a dark road comes linda castillo s in dark compan, prediction: (('__label__thrillers',), array([0.69280261]))\n",
      "80: new york times bestseller  edward snowden  the man who risked everything to expose the us government, prediction: (('__label__science_fiction',), array([0.32222778]))\n",
      "81: this new york times bestseller is perfect for fans of tana french and dennis lehane midwinter  a chi, prediction: (('__label__thrillers',), array([0.51855046]))\n",
      "82: an electrifying new thriller from  queen of suspense  mary higgins clark         when investigative , prediction: (('__label__thrillers',), array([0.59658819]))\n",
      "83: the wheel of time   is a pbs great american read selection  now in development for tv  since its deb, prediction: (('__label__fantasy',), array([0.99011046]))\n",
      "84: here in a short  compact and concise format is the basics of how to persuade more people more effect, prediction: (('__label__personal_growth',), array([0.37947199]))\n",
      "85: illusions shatter and sophie and her friends face impossible choices in this astonishing eighth book, prediction: (('__label__action___adventure',), array([0.60726601]))\n",
      "86:  morgan rice has come up with what promises to be another brilliant series  immersing us in a fantas, prediction: (('__label__science_fiction',), array([0.47044951]))\n",
      "87: letting go describes a simple and effective means by which to let go of the obstacles to enlightenme, prediction: (('__label__general',), array([0.45930874]))\n",
      "88: nobody invites you to parties do you feel like a seesaw  cause when you sit down  everybody gets up , prediction: (('__label__personal_growth',), array([0.99763769]))\n",
      "89: the wheel of time   is a pbs great american read selection  now in development for tv  since its deb, prediction: (('__label__fantasy',), array([0.98610318]))\n",
      "90: new york times bestseller  a thrilling collection of twenty one original stories by an all star list, prediction: (('__label__action___adventure',), array([0.89383572]))\n",
      "91: michaella was just a regular girl  spending the summer working at a bar in ibiza  until she was appr, prediction: (('__label__general',), array([0.96484762]))\n",
      "92:  a masterpiece of thriller and mystery  the author did a magnificent job developing characters with , prediction: (('__label__mystery___detective',), array([0.70985895]))\n",
      "93:  sometimes we can t see what s right in front of us  kat  everyone has secrets  even the people we l, prediction: (('__label__thrillers',), array([0.52751768]))\n",
      "94:  1 new york times bestseller   in the next highly anticipated installment of lee child s acclaimed s, prediction: (('__label__action___adventure',), array([0.68452537]))\n",
      "95: in this follow up to her critically acclaimed and bestselling memoir home  the enchanting julie andr, prediction: (('__label__mystery___detective',), array([0.32298937]))\n",
      "96: the stunning debut fantasy novel from author peter v  brett    the painted man  book one of the demo, prediction: (('__label__fantasy',), array([0.72094083]))\n",
      "97: before he became the green lantern   before he unwittingly brought about the downfall of the green l, prediction: (('__label__superheroes',), array([0.98623478]))\n",
      "98: this carefully crafted ebook   the complete works of william shakespeare  is formatted for your erea, prediction: (('__label__fantasy',), array([0.38338751]))\n",
      "99: boasting more than two million pageviews per month  theawkwardyeti com has become a webcomic staple , prediction: (('__label__general',), array([0.53546315]))\n",
      "100: a short gift book of festive hospital diaries from the author of million copy bestseller this is goi, prediction: (('__label__general',), array([0.94776028]))\n",
      "101: from new york times bestselling author jana deleon  the third book in the shaye archer thriller seri, prediction: (('__label__mystery___detective',), array([0.66916823]))\n"
     ]
    },
    {
     "name": "stdout",
     "output_type": "stream",
     "text": [
      "102: the last few decades have seen an explosion in the production of critical theories  with deconstruct, prediction: (('__label__general',), array([0.99406332]))\n",
      "103:  a must read  mark manson   exactly what most of us need in order to focus on what is important  rat, prediction: (('__label__general',), array([0.99376738]))\n",
      "104: why do some people achieve all their goals while others simply dream of having a better life  with o, prediction: (('__label__motivational',), array([0.54648149]))\n",
      "105: this carefully crafted ebook   the art of war  the classic lionel giles translation   is formatted f, prediction: (('__label__general',), array([0.99162292]))\n",
      "106: how will you determine if your company has succeeded if you can t base its performance on a well def, prediction: (('__label__motivational',), array([0.96693969]))\n",
      "107: where does that  winning edge  you ve heard so much about come from  how do some people seem to find, prediction: (('__label__personal_growth',), array([0.76611388]))\n",
      "108: hbo s hit series a game of thrones is based on george r r martin s internationally bestselling serie, prediction: (('__label__action___adventure',), array([0.51895165]))\n",
      "109: the landscape of the marvel universe is changing  and it s time to choose  whose side are you on  a , prediction: (('__label__superheroes',), array([0.9920181]))\n",
      "110: _______ the sunday times besteller deeply informative  moving  wise and full of love  alain de botto, prediction: (('__label__personal_growth',), array([0.53993845]))\n",
      "111: the novelization of the highly anticipated god of war 4 game  his vengeance against the gods of olym, prediction: (('__label__fantasy',), array([0.55420566]))\n",
      "112: the wheel of time   is a pbs great american read selection  now in development for tv  since its deb, prediction: (('__label__fantasy',), array([0.99011046]))\n",
      "113: new york times bestseller  with the warded man and the desert spear  peter v  brett surged to the fr, prediction: (('__label__science_fiction',), array([0.39505917]))\n",
      "114: the thrilling new oregon files novel from the adventure king clive cussler an all out nonstop action, prediction: (('__label__thrillers',), array([0.41448405]))\n",
      "115: a new   york times bestseller         a new edition of one of the most important and critically accl, prediction: (('__label__superheroes',), array([0.99572003]))\n",
      "116: this carefully crafted ebook   the complete works of william shakespeare  is formatted for your erea, prediction: (('__label__fantasy',), array([0.38338751]))\n",
      "117: the wheel of time   is a pbs great american read selection  now in development for tv  since its deb, prediction: (('__label__fantasy',), array([0.97292227]))\n",
      "118: a bundle of books  1  once gone  and  2  once taken  in blake pierce s riley paige mystery series a , prediction: (('__label__mystery___detective',), array([0.50813937]))\n",
      "119: the man of steel against the dark knight  superman and batman are usually allies  but when they do h, prediction: (('__label__superheroes',), array([0.99996114]))\n",
      "120: the lady has spoken to me     it has already begun    shadows move out of the shrinking desert  sout, prediction: (('__label__fantasy',), array([0.9983291]))\n",
      "121: take a globetrotting journey all over the world  and beyond   with this companion art book to the hi, prediction: (('__label__general',), array([0.42228672]))\n",
      "122: the book lifehack calls  the bible of business and personal productivity     a completely revised an, prediction: (('__label__general',), array([0.45666343]))\n",
      "123: the first royal spyness mystery   the new york times bestselling author of the molly murphy and cons, prediction: (('__label__mystery___detective',), array([0.97219962]))\n",
      "124: the vagrant is his name  he has no other  years have passed since humanity s destruction emerged fro, prediction: (('__label__fantasy',), array([0.38567656]))\n",
      "125: collects mighty thor  2015   6 11   the legend continues with thors new and old  loki spins a specia, prediction: (('__label__superheroes',), array([0.96942842]))\n",
      "126: the walking dead compendium vol  1 is here  collecting issues 1 48 now s your chance to experience t, prediction: (('__label__horror',), array([0.98875052]))\n",
      "127: discover the life changing strategy of this worldwide bestseller in 17 languages  updated  includes , prediction: (('__label__motivational',), array([0.48633504]))\n",
      "128: the wheel of time   is a pbs great american read selection  now in development for tv    since its d, prediction: (('__label__fantasy',), array([0.98841339]))\n",
      "129:  yes  this was up there with the best     i was hooked from the beginning  full of twists and turns , prediction: (('__label__crime',), array([0.70697081]))\n",
      "130: collects deadpool kills the marvel universe  1 4  what if everything you thought was funny about dea, prediction: (('__label__superheroes',), array([0.99987948]))\n",
      "131: from the author of harry s game   a sunday times  100 best crime novels and thrillers since 1945  pi, prediction: (('__label__thrillers',), array([0.82835519]))\n",
      "132: in this extraordinary fantasy epic  the  1 new york times bestselling author of the dresden files le, prediction: (('__label__fantasy',), array([0.97626311]))\n",
      "133:  1 new   york times bestseller         batman is not a hero          he is just a man          falli, prediction: (('__label__superheroes',), array([0.98024982]))\n",
      "134:  an action packed fantasy sure to please fans of morgan rice s previous novels  along with fans of w, prediction: (('__label__fantasy',), array([0.60873747]))\n",
      "135: a new york times bestseller  in this spellbinding exploration of the varieties of love  the author o, prediction: (('__label__general',), array([0.86068428]))\n",
      "136: civil engineering for gate psus exam contains exhaustive theory  past year questions and practice pr, prediction: (('__label__general',), array([0.74165523]))\n",
      "137: the joker is dead  arkham city is no more  but as batman has learned  evil is endless  and his new e, prediction: (('__label__superheroes',), array([0.99849612]))\n",
      "138: the new york times bestselling freakonomics changed the way we see the world  exposing the hidden si, prediction: (('__label__general',), array([0.44807497]))\n",
      "139: which sort of seducer could you be  siren  rake  cold coquette  star  comedian  charismatic  or sain, prediction: (('__label__personal_growth',), array([0.56071693]))\n",
      "140: total control is a breathtaking thrill ride on a roller coaster of non stop action and suspense from, prediction: (('__label__crime',), array([0.51136678]))\n",
      "141: from the creators of the hit show  critical role  comes vox machina s origin story  writers matthew , prediction: (('__label__fantasy',), array([0.28249687]))\n",
      "142:  fantasy as it ought to be written  george r r  martin  the kingdom of the six duchies is on the bri, prediction: (('__label__fantasy',), array([0.51041704]))\n",
      "143: agatha christie s first ever murder mystery  includes an introduction by christie archivist john cur, prediction: (('__label__horror',), array([0.45167279]))\n",
      "144: new york times bestseller   this instant classic explores how we can change our lives by changing ou, prediction: (('__label__personal_growth',), array([0.83789784]))\n",
      "145: collects deadpool kills the marvel universe  1 4  what if everything you thought was funny about dea, prediction: (('__label__superheroes',), array([0.99987948]))\n",
      "146: in wrecking ball  book 14 of the diary of a wimpy kid series from  1 international bestselling autho, prediction: (('__label__general',), array([0.46378937]))\n",
      "147: the thrilling new oregon files novel from the adventure king clive cussler an all out nonstop action, prediction: (('__label__thrillers',), array([0.41448405]))\n",
      "148: the law of success was a precursor to napoleon hill s think and grow rich  hill was well known for r, prediction: (('__label__personal_growth',), array([0.75330216]))\n",
      "149: as the former chairman and ceo of thomas nelson publishers  author michael hyatt gained insight on t, prediction: (('__label__general',), array([0.95718306]))\n",
      "150: from new york times bestselling author jana deleon  the third book in the shaye archer thriller seri, prediction: (('__label__mystery___detective',), array([0.66916823]))\n",
      "151: are you intimidated by day trading  think it s only for the select few who are savvy with stocks or , prediction: (('__label__personal_finance',), array([0.61715561]))\n",
      "152: soon to be an hbo original series  watchmen  the groundbreaking series from award winning author ala, prediction: (('__label__superheroes',), array([0.99454051]))\n",
      "153:  fantasy as it ought to be written  george r r  martin  the kingdom of the six duchies is on the bri, prediction: (('__label__fantasy',), array([0.51041704]))\n",
      "154: a mindbending  relentlessly surprising thriller from the author of the bestselling wayward pines tri, prediction: (('__label__thrillers',), array([0.78337955]))\n",
      "155: ten months ago  samantha hunt set off for work and was never seen again    despite the statistics of, prediction: (('__label__mystery___detective',), array([0.93687105]))\n",
      "156: the intoxicating and bloodthirsty finale to the new york times bestselling the cruel prince  nominat, prediction: (('__label__fantasy',), array([0.98975074]))\n",
      "157: witness batman s first encounter with the joker in this volume collecting the graphic novel batman  , prediction: (('__label__superheroes',), array([1.00000429]))\n",
      "158: you are a badass is the self help book for people who desperately want to improve their lives but do, prediction: (('__label__personal_growth',), array([0.79032367]))\n",
      "159:  an action packed fantasy sure to please fans of morgan rice s previous novels  along with fans of w, prediction: (('__label__science_fiction',), array([0.79845124]))\n",
      "160:  1 new york times bestseller   a historian of fascism offers a guide for surviving and resisting ame, prediction: (('__label__general',), array([0.31219524]))\n",
      "161:  ask a footballer is a fine read  showcasing how an unassuming man has forged success  winning the p, prediction: (('__label__general',), array([0.91972166]))\n",
      "162: the wheel of time   is a pbs great american read selection  now in development for tv  since its deb, prediction: (('__label__fantasy',), array([0.98154736]))\n",
      "163: the greatest heroes in comics together on one unbeatable team  the avengers  go large   expanding th, prediction: (('__label__superheroes',), array([0.80100751]))\n",
      "164: mikami s middle age hasn t gone as he planned  he never found a girlfriend  he got stuck in a dead e, prediction: (('__label__thrillers',), array([0.68861854]))\n",
      "165: soon to be a major motion picture starring claire foy  lisbeth salander and mikael blomkvist return , prediction: (('__label__mystery___detective',), array([0.85354644]))\n",
      "166: publisher s note  products purchased from third party sellers are not guaranteed by the publisher fo, prediction: (('__label__general',), array([0.61626208]))\n",
      "167: before he became the green lantern   before he unwittingly brought about the downfall of the green l, prediction: (('__label__superheroes',), array([0.98623478]))\n",
      "168: collects venomized  1 5  the story that began in venomverse reaches its epic conclusion  the poisons, prediction: (('__label__superheroes',), array([0.93598473]))\n",
      "169: in final option  juan cabrillo fights the worst enemy from his past to the terrifying and unexpected, prediction: (('__label__thrillers',), array([0.57359332]))\n",
      "170: now beyond its eleventh printing and translated into twelve languages  michael porter s the competit, prediction: (('__label__general',), array([0.7326113]))\n",
      "171: in find me  aciman shows us elio s father  samuel  on a trip from florence to rome to visit elio  no, prediction: (('__label__general',), array([0.98015845]))\n",
      "172:  a literary masterpiece       at once erudite and intimate  reflective and funny       it has the gr, prediction: (('__label__action___adventure',), array([0.70435196]))\n",
      "173: this is no way to live  like so many others  you can now enjoy your own personal success story by ma, prediction: (('__label__personal_growth',), array([0.59666044]))\n",
      "174: are you intimidated by day trading  think it s only for the select few who are savvy with stocks or , prediction: (('__label__personal_finance',), array([0.61715561]))\n",
      "175: book eight in the new york times and usa today bestselling rose gardner mystery series  rose gardner, prediction: (('__label__mystery___detective',), array([0.8954798]))\n",
      "176: from his rooms in baker street  sherlock holmes grapples with forces of deceit  intrigue  and evil i, prediction: (('__label__classics',), array([0.63049728]))\n",
      "177: why do some people achieve all their goals while others simply dream of having a better life  with o, prediction: (('__label__motivational',), array([0.54648149]))\n",
      "178: in this first volume of the critically acclaimed zero year storyline  the  1 new york times bestsell, prediction: (('__label__superheroes',), array([0.99397933]))\n",
      "179: now an amazon original series    winner of the hugo award   the single most resonant and carefully i, prediction: (('__label__science_fiction',), array([0.85747033]))\n",
      "180: new york times bestseller  a thrilling collection of twenty one original stories by an all star list, prediction: (('__label__action___adventure',), array([0.89383572]))\n",
      "181: based on the bestselling ama seminar  a nuts and bolts guide to the dollars and cents issues that dr, prediction: (('__label__general',), array([0.47269079]))\n",
      "182: the sunday times bestseller coming from glasgow  it s weird  i don t really tell jokes  like irish j, prediction: (('__label__general',), array([0.82239443]))\n",
      "183: discover the life changing strategy of this worldwide bestseller in 17 languages  updated  includes , prediction: (('__label__motivational',), array([0.48633504]))\n",
      "184: the call of cthulhu is a story by american writer h  p  lovecraft  the story deals with a manuscript, prediction: (('__label__horror',), array([0.98316157]))\n",
      "185: someone is working their way through the multiverse  leaving a trail of dead spiders in their wake  , prediction: (('__label__superheroes',), array([0.99991333]))\n",
      "186: geralt is a witcher  a man whose magic powers  enhanced by long training and a mysterious elixir  ha, prediction: (('__label__fantasy',), array([0.958188]))\n",
      "187: the novelization of the highly anticipated god of war 4 game  his vengeance against the gods of olym, prediction: (('__label__fantasy',), array([0.55420566]))\n",
      "188:  an action packed fantasy sure to please fans of morgan rice s previous novels  along with fans of w, prediction: (('__label__science_fiction',), array([0.6776768]))\n",
      "189: a mindbending  relentlessly surprising thriller from the author of the bestselling wayward pines tri, prediction: (('__label__thrillers',), array([0.78337955]))\n",
      "190: from  1 new york times bestselling author brandon sanderson  a special gift edition of edgedancer  a, prediction: (('__label__fantasy',), array([0.96551603]))\n",
      "191: the wheel of time   is a pbs great american read selection  now in development for tv  since its deb, prediction: (('__label__fantasy',), array([0.98154736]))\n",
      "192: this discounted ebundle includes  mistborn  the final empire  the well of ascension  the hero of age, prediction: (('__label__fantasy',), array([0.95280296]))\n"
     ]
    },
    {
     "name": "stdout",
     "output_type": "stream",
     "text": [
      "193: do you buy things without need do you buy things to feel happy  if the answer is  yes  then you need, prediction: (('__label__personal_finance',), array([0.58333361]))\n",
      "194: the justice league is dead  and the villains shall inherit the earth  in a flash of light  the world, prediction: (('__label__superheroes',), array([0.99974042]))\n",
      "195:  an all too plausible disaster for the world we live in  great nail biting stuff    robert goddard  , prediction: (('__label__crime',), array([0.62200481]))\n",
      "196:  a masterpiece of thriller and mystery  blake pierce did a magnificent job developing characters wit, prediction: (('__label__mystery___detective',), array([0.90371966]))\n",
      "197: letting go describes a simple and effective means by which to let go of the obstacles to enlightenme, prediction: (('__label__general',), array([0.45930874]))\n",
      "198:  an action packed fantasy sure to please fans of morgan rice s previous novels  along with fans of w, prediction: (('__label__science_fiction',), array([0.79845124]))\n",
      "199: the justice league is dead  and the villains shall inherit the earth  in a flash of light  the world, prediction: (('__label__superheroes',), array([0.99974042]))\n",
      "200: the intergalactic adventures of arthur dent begin in the first volume of the  trilogy of five   doug, prediction: (('__label__science_fiction',), array([0.75339234]))\n",
      "201: in her debut mystery  chocolate chip cookie murder  intrepid amateur sleuth and bakery owner hannah , prediction: (('__label__mystery___detective',), array([0.96405691]))\n",
      "202: collects marvel universe  the end  1 6  jim starlin is back and this time he destroys everything  wh, prediction: (('__label__superheroes',), array([0.99905616]))\n",
      "203:  1 new york times bestseller   in the next highly anticipated installment of lee child s acclaimed s, prediction: (('__label__action___adventure',), array([0.68452537]))\n",
      "204: mikami s middle age hasn t gone as he planned  he never found a girlfriend  he got stuck in a dead e, prediction: (('__label__thrillers',), array([0.68861854]))\n",
      "205:  endlessly amusing    kirkus reviews  small town sleuths brandy and vivian borne  with their trusty , prediction: (('__label__mystery___detective',), array([0.98000336]))\n",
      "206: soon to be an hbo original series  watchmen  the groundbreaking series from award winning author ala, prediction: (('__label__superheroes',), array([0.99454051]))\n",
      "207: in these stories originally available only online and tying into the bestselling videogame batman  a, prediction: (('__label__superheroes',), array([0.99762356]))\n",
      "208: collects captain marvel  1 6 , prediction: (('__label__superheroes',), array([1.00001001]))\n",
      "209:  a masterpiece of thriller and mystery  blake pierce did a magnificent job developing characters wit, prediction: (('__label__mystery___detective',), array([0.90371966]))\n",
      "210:  for anyone trapped in an energy zapping relationship with a co worker  boss  or subordinate  crowle, prediction: (('__label__personal_growth',), array([0.73783922]))\n",
      "211: new york times bestseller  edward snowden  the man who risked everything to expose the us government, prediction: (('__label__science_fiction',), array([0.32222778]))\n",
      "212: publisher s note  products purchased from third party sellers are not guaranteed by the publisher fo, prediction: (('__label__general',), array([0.61626208]))\n",
      "213: the no1 problem that stops people getting what they want is lack of focus  those that focus on what , prediction: (('__label__personal_finance',), array([0.86353207]))\n",
      "214: national bestsellerdeveloping video games hero s journey or fool s errand  the creative and technica, prediction: (('__label__general',), array([0.35581428]))\n",
      "215:  a masterpiece of thriller and mystery  the author did a magnificent job developing characters with , prediction: (('__label__mystery___detective',), array([0.73637927]))\n",
      "216: the landscape of the marvel universe is changing  and it s time to choose  whose side are you on  a , prediction: (('__label__superheroes',), array([0.9920181]))\n",
      "217: this cookbook contains 15 delicious slow cooker recipes like sweet and sour pork  beef stew  turkey , prediction: (('__label__general',), array([0.9052459]))\n",
      "218:  1 new york times bestseller   red rising thrilled readers and announced the presence of a talented , prediction: (('__label__action___adventure',), array([0.62680787]))\n",
      "219: the no1 problem that stops people getting what they want is lack of focus  those that focus on what , prediction: (('__label__personal_finance',), array([0.86353207]))\n",
      "220: now the acclaimed hbo series game of thrones the masterpiece that became a cultural phenomenon   win, prediction: (('__label__action___adventure',), array([0.47238147]))\n",
      "221: the walking dead compendium vol  1 is here  collecting issues 1 48 now s your chance to experience t, prediction: (('__label__horror',), array([0.98875052]))\n",
      "222: in this first volume of the critically acclaimed zero year storyline  the  1 new york times bestsell, prediction: (('__label__superheroes',), array([0.99397933]))\n",
      "223:  yes  this was up there with the best     i was hooked from the beginning  full of twists and turns , prediction: (('__label__crime',), array([0.70697081]))\n",
      "224: batman and robin hit the streets with a bang in their new flying batmobile to face an assemblage of , prediction: (('__label__superheroes',), array([0.99529922]))\n",
      "225: collects the punisher  1 6 , prediction: (('__label__superheroes',), array([1.00001001]))\n",
      "226: boasting some of sherlock holmes s finest adventures  this classic 1894 collection was originally wr, prediction: (('__label__fantasy',), array([0.54695684]))\n",
      "227: a bundle of books  1  once gone  and  2  once taken  in blake pierce s riley paige mystery series a , prediction: (('__label__mystery___detective',), array([0.50813937]))\n",
      "228: this discounted ebundle includes  mistborn  the final empire  the well of ascension  the hero of age, prediction: (('__label__fantasy',), array([0.95280296]))\n",
      "229:  ask a footballer is a fine read  showcasing how an unassuming man has forged success  winning the p, prediction: (('__label__general',), array([0.91972166]))\n",
      "230: all three parts of the epic masterpiece the lord of the rings   the fellowship of the ring  the two , prediction: (('__label__classics',), array([0.70394796]))\n",
      "231: voltaire s satire of eighteenth century europe  hailed as one of the most influential works in the w, prediction: (('__label__classics',), array([0.98460376]))\n",
      "232: book eight in the new york times and usa today bestselling rose gardner mystery series  rose gardner, prediction: (('__label__mystery___detective',), array([0.8954798]))\n",
      "233: the first royal spyness mystery   the new york times bestselling author of the molly murphy and cons, prediction: (('__label__mystery___detective',), array([0.97219962]))\n",
      "234:  turn off the television   in fact  why don t you turn off all the lights except for the one over yo, prediction: (('__label__horror',), array([0.59009427]))\n",
      "235: sleek  swift  and deadly  they are the x wing fighters  and as the battle against the empire rages a, prediction: (('__label__action___adventure',), array([0.57408386]))\n",
      "236: the timeless and practical advice in the magic of thinking big clearly demonstrates how you can  sel, prediction: (('__label__personal_growth',), array([0.79246706]))\n",
      "237: it  chapter two now a major motion picture     stephen king s terrifying  classic  1 new york times , prediction: (('__label__horror',), array([0.80457222]))\n",
      "238:  an action packed fantasy sure to please fans of morgan rice s previous novels  along with fans of w, prediction: (('__label__fantasy',), array([0.60873747]))\n",
      "239: the future looks bright when brilliant and benevolent dr  light unveils his latest creations  the ro, prediction: (('__label__fantasy',), array([0.81269109]))\n",
      "240: nikki maxwell s summer is packed with drama in this fourteenth installment of the bestselling dork d, prediction: (('__label__general',), array([0.96492112]))\n",
      "241:  a must read  mark manson   exactly what most of us need in order to focus on what is important  rat, prediction: (('__label__general',), array([0.99376738]))\n",
      "242: this discounted ebundle of chronicle of the unhewn throne includes  the emperor s blades  the provid, prediction: (('__label__fantasy',), array([0.95174366]))\n",
      "243: now she s the best there is  x 23 was created to be a weapon and  for a time  that s all she was  bu, prediction: (('__label__superheroes',), array([0.98535091]))\n",
      "244: struggling to come to terms with the suicide of her teenage son  ellie lives in the shadows of the f, prediction: (('__label__crime',), array([0.75342488]))\n",
      "245: nominated as one of america s best loved novels by pbs s the great american read  the worldwide best, prediction: (('__label__science_fiction',), array([0.57570708]))\n",
      "246: from the new york times bestselling author of down a dark road comes linda castillo s in dark compan, prediction: (('__label__thrillers',), array([0.69280261]))\n",
      "247: which sort of seducer could you be  siren  rake  cold coquette  star  comedian  charismatic  or sain, prediction: (('__label__personal_growth',), array([0.56071693]))\n",
      "248: the challenge  built to last  the defining management study of the nineties  showed how great compan, prediction: (('__label__fantasy',), array([0.19684261]))\n",
      "249: someone is working their way through the multiverse  leaving a trail of dead spiders in their wake  , prediction: (('__label__superheroes',), array([0.99991333]))\n",
      "250: the million copy bestselling author returns with a breathtaking thriller   now with exclusive new ch, prediction: (('__label__general',), array([0.58654261]))\n",
      "251: now the acclaimed hbo series game of thrones the masterpiece that became a cultural phenomenon   win, prediction: (('__label__action___adventure',), array([0.47238147]))\n",
      "252: the wheel of time   is a pbs great american read selection  now in development for tv  since its deb, prediction: (('__label__fantasy',), array([0.99011046]))\n",
      "253:  jaine austen s amused take on life  love  sex and la will delight readers     carolyn hart  a gal w, prediction: (('__label__mystery___detective',), array([0.97778237]))\n",
      "254: the book lifehack calls  the bible of business and personal productivity     a completely revised an, prediction: (('__label__general',), array([0.45666343]))\n",
      "255:  astonishing     an amazing book     absolutely chocker full of things that we need to know  chris e, prediction: (('__label__general',), array([0.64317286]))\n",
      "256: the intoxicating and bloodthirsty finale to the new york times bestselling the cruel prince  nominat, prediction: (('__label__fantasy',), array([0.98975074]))\n",
      "257: nikki maxwell s summer is packed with drama in this fourteenth installment of the bestselling dork d, prediction: (('__label__general',), array([0.96492112]))\n",
      "258: agatha christie s first ever murder mystery  includes an introduction by christie archivist john cur, prediction: (('__label__horror',), array([0.45167279]))\n",
      "259: now the best selling book of its kind has gotten even better this revised and expanded second editio, prediction: (('__label__personal_finance',), array([0.74181879]))\n"
     ]
    },
    {
     "name": "stdout",
     "output_type": "stream",
     "text": [
      "260: the  1 new york times bestselling biography of how steve jobs became the most visionary ceo in histo, prediction: (('__label__general',), array([0.6315791]))\n",
      "261:  i have stolen princesses back from sleeping barrow kings  i burned down the town of trebon  i have , prediction: (('__label__fantasy',), array([0.93514502]))\n",
      "262:  astonishing     an amazing book     absolutely chocker full of things that we need to know  chris e, prediction: (('__label__general',), array([0.64317286]))\n",
      "263: the future looks bright when brilliant and benevolent dr  light unveils his latest creations  the ro, prediction: (('__label__fantasy',), array([0.81269109]))\n",
      "264: the last few decades have seen an explosion in the production of critical theories  with deconstruct, prediction: (('__label__general',), array([0.99406332]))\n",
      "265: where does that  winning edge  you ve heard so much about come from  how do some people seem to find, prediction: (('__label__personal_growth',), array([0.76611388]))\n",
      "266:  an action packed fantasy sure to please fans of morgan rice s previous novels  along with fans of w, prediction: (('__label__fantasy',), array([0.89944875]))\n",
      "267: ten months ago  samantha hunt set off for work and was never seen again    despite the statistics of, prediction: (('__label__mystery___detective',), array([0.93687105]))\n",
      "268:  jaine austen s amused take on life  love  sex and la will delight readers     carolyn hart  a gal w, prediction: (('__label__mystery___detective',), array([0.97778237]))\n",
      "269:  one of the funniest cozy series going     ellery queen mystery magazine  brandy borne and her drama, prediction: (('__label__mystery___detective',), array([0.99262959]))\n",
      "270: the law of success was a precursor to napoleon hill s think and grow rich  hill was well known for r, prediction: (('__label__personal_growth',), array([0.75330216]))\n",
      "271: letting go describes a simple and effective means by which to let go of the obstacles to enlightenme, prediction: (('__label__general',), array([0.45930874]))\n",
      "272:  you will be blown away   ain t it cool news brian azzarello brings to the joker all the visceral in, prediction: (('__label__superheroes',), array([0.98816955]))\n",
      "273: take a globetrotting journey all over the world  and beyond   with this companion art book to the hi, prediction: (('__label__general',), array([0.42228672]))\n",
      "274: may 1992  and after four lapd officers are acquitted following the savage beating of rodney king  lo, prediction: (('__label__crime',), array([0.86309761]))\n",
      "275: the most famous confidence boosting book ever published  with sales of over 16 million copies worldw, prediction: (('__label__motivational',), array([0.51643914]))\n",
      "276:  1 new york times bestseller   the book behind the fifth season of the acclaimed hbo series game of , prediction: (('__label__action___adventure',), array([0.48149109]))\n",
      "277: the dresden files have taken the genre of paranormal mystery to a new level of action  excitement  a, prediction: (('__label__fantasy',), array([0.61458468]))\n",
      "278: the man of steel against the dark knight  superman and batman are usually allies  but when they do h, prediction: (('__label__superheroes',), array([0.99996114]))\n",
      "279: the wheel of time   is a pbs great american read selection  now in development for tv    since its d, prediction: (('__label__fantasy',), array([0.98841339]))\n",
      "280: the stunning debut fantasy novel from author peter v  brett    the painted man  book one of the demo, prediction: (('__label__fantasy',), array([0.72094083]))\n",
      "281: new york times bestseller   in this definitive novel  readers will follow thrawn s rise to power unc, prediction: (('__label__action___adventure',), array([0.54627204]))\n",
      "282: the stunning debut fantasy novel from author peter v  brett    the painted man  book one of the demo, prediction: (('__label__fantasy',), array([0.72094083]))\n",
      "283: from the creators of the hit show  critical role  comes vox machina s origin story  writers matthew , prediction: (('__label__fantasy',), array([0.28249687]))\n",
      "284: the challenge  built to last  the defining management study of the nineties  showed how great compan, prediction: (('__label__fantasy',), array([0.19684261]))\n",
      "285: from the publisher that brought you game of thrones    prince of thorns is the first volume in a pow, prediction: (('__label__classics',), array([0.86324733]))\n",
      "286: the groundbreaking speeches of greta thunberg  the young climate activist who has become the voice o, prediction: (('__label__general',), array([0.34428701]))\n",
      "287: ibrahim al brehm is a respectable husband a police inspector on jeddah s murder squad  but for the p, prediction: (('__label__crime',), array([0.86546218]))\n",
      "288: collecting immortal hulk  1 5 and material from avengers  2016   684 by jim zub and mark waid  horro, prediction: (('__label__superheroes',), array([0.99210292]))\n",
      "289: national bestsellerdeveloping video games hero s journey or fool s errand  the creative and technica, prediction: (('__label__general',), array([0.35581428]))\n",
      "290: now the best selling book of its kind has gotten even better this revised and expanded second editio, prediction: (('__label__personal_finance',), array([0.74181879]))\n",
      "291: influence  the classic book on persuasion  explains the psychology of why people say  yes  and how t, prediction: (('__label__motivational',), array([0.90301186]))\n",
      "292: the highly acclaimed  provocative new york times bestseller from the award winning author of america, prediction: (('__label__general',), array([0.69256455]))\n",
      "293: love  violence  destiny  these powerful themes ricochet through lorenzo carcaterra s new novel like , prediction: (('__label__thrillers',), array([0.61264765]))\n",
      "294: illusions shatter and sophie and her friends face impossible choices in this astonishing eighth book, prediction: (('__label__action___adventure',), array([0.60726601]))\n",
      "295: a practical guide to the new economy that is transforming the way we live  work  and play  uber  air, prediction: (('__label__general',), array([0.87193769]))\n",
      "296:  turn off the television   in fact  why don t you turn off all the lights except for the one over yo, prediction: (('__label__horror',), array([0.59009427]))\n",
      "297: collects captain marvel  1 6 , prediction: (('__label__superheroes',), array([1.00001001]))\n",
      "298: the burning white is the epic conclusion to the lightbringer series by new york times bestseller bre, prediction: (('__label__fantasy',), array([0.99480951]))\n",
      "299: from new york times bestselling author jana deleon  the third book in the shaye archer thriller seri, prediction: (('__label__mystery___detective',), array([0.66916823]))\n",
      "300: collects ultimate spider man 60 65  one of the most ruthless villains in the history of the marvel u, prediction: (('__label__superheroes',), array([0.996764]))\n",
      "301: too often  businesses create a product or service and then focus their marketing efforts on trying t, prediction: (('__label__general',), array([0.96332139]))\n",
      "302: what s black  white  and dead all over     from the pages of last year s best selling new ways to di, prediction: (('__label__superheroes',), array([0.71049738]))\n",
      "303: secrets of the millionaire mind reveals the missing link between wanting success and achieving it ha, prediction: (('__label__personal_finance',), array([0.52729893]))\n",
      "304: _______ the sunday times besteller deeply informative  moving  wise and full of love  alain de botto, prediction: (('__label__personal_growth',), array([0.53993845]))\n",
      "305: the most popular question alvin hall is asked is  where does my money go    in this quick and straig, prediction: (('__label__personal_finance',), array([0.99915218]))\n",
      "306: now beyond its eleventh printing and translated into twelve languages  michael porter s the competit, prediction: (('__label__general',), array([0.7326113]))\n",
      "307: the walking dead compendium vol  1 is here  collecting issues 1 48 now s your chance to experience t, prediction: (('__label__horror',), array([0.98875052]))\n",
      "308: inspired by the video game phenomenon  injustice  gods among us year one the complete edition collec, prediction: (('__label__superheroes',), array([0.98558581]))\n",
      "309: showstopper cookies for a new generation  from martha stewart  an authoritative and creative collect, prediction: (('__label__general',), array([0.80892783]))\n",
      "310: wake up and take control of your life  from the bestselling author of inner strength  unlimited powe, prediction: (('__label__personal_growth',), array([0.60524321]))\n",
      "311: the new york times bestselling memoir about identity  love and understanding  now a major motion pic, prediction: (('__label__general',), array([0.4277209]))\n",
      "312:  an action packed fantasy sure to please fans of morgan rice s previous novels  along with fans of w, prediction: (('__label__science_fiction',), array([0.6776768]))\n",
      "313: unleash your leadership potential  no matter who you are  you can lead and lead well  that is the me, prediction: (('__label__motivational',), array([0.54157758]))\n",
      "314: from  1 new york times bestselling author brandon sanderson  a special gift edition of edgedancer  a, prediction: (('__label__fantasy',), array([0.96551603]))\n",
      "315: a new   york times bestseller         a new edition of one of the most important and critically accl, prediction: (('__label__superheroes',), array([0.99572003]))\n",
      "316:  you will be blown away   ain t it cool news brian azzarello brings to the joker all the visceral in, prediction: (('__label__superheroes',), array([0.98816955]))\n",
      "317: as the former chairman and ceo of thomas nelson publishers  author michael hyatt gained insight on t, prediction: (('__label__general',), array([0.95718306]))\n",
      "318: in find me  aciman shows us elio s father  samuel  on a trip from florence to rome to visit elio  no, prediction: (('__label__general',), array([0.98015845]))\n",
      "319: the razor sharp first novel in the night angel trilogy  from international bestseller brent weeks th, prediction: (('__label__fantasy',), array([0.82565999]))\n",
      "320: new york times bestseller  with the warded man and the desert spear  peter v  brett surged to the fr, prediction: (('__label__science_fiction',), array([0.39505917]))\n",
      "321: if gunnery sergeant zane hall wants to save his family s ranch  he ll need to fix up the buildings  , prediction: (('__label__mystery___detective',), array([0.42743096]))\n",
      "322: new york times bestseller   the bestselling author of morning star returns to the red rising univers, prediction: (('__label__science_fiction',), array([0.59733456]))\n",
      "323: do you feel awkward at networking events  do you wonder what your date really thinks of you  do you , prediction: (('__label__personal_growth',), array([0.42011672]))\n",
      "324: after facing down hijackers on a flight to the middle east and saving the lives of the passengers on, prediction: (('__label__mystery___detective',), array([0.86176026]))\n",
      "325: determined to make a new start in her quaint hometown on the banks of the mississippi  brandy borne , prediction: (('__label__mystery___detective',), array([0.97555649]))\n",
      "326: in final option  juan cabrillo fights the worst enemy from his past to the terrifying and unexpected, prediction: (('__label__thrillers',), array([0.57359332]))\n",
      "327: the modern marketplace is increasingly unpredictable and there is an ever greater need for non finan, prediction: (('__label__general',), array([0.71685284]))\n",
      "328: the new york times bestselling batman writer and artist team of scott snyder and greg capullo re uni, prediction: (('__label__superheroes',), array([0.99801522]))\n"
     ]
    },
    {
     "ename": "AttributeError",
     "evalue": "'float' object has no attribute 'lower'",
     "output_type": "error",
     "traceback": [
      "\u001b[0;31m---------------------------------------------------------------------------\u001b[0m",
      "\u001b[0;31mAttributeError\u001b[0m                            Traceback (most recent call last)",
      "\u001b[0;32m<ipython-input-111-7490e1620322>\u001b[0m in \u001b[0;36m<module>\u001b[0;34m\u001b[0m\n\u001b[0;32m----> 1\u001b[0;31m \u001b[0mprintout_predictions\u001b[0m\u001b[0;34m(\u001b[0m\u001b[0mmodel\u001b[0m\u001b[0;34m)\u001b[0m\u001b[0;34m\u001b[0m\u001b[0;34m\u001b[0m\u001b[0m\n\u001b[0m",
      "\u001b[0;32m<ipython-input-91-d752107769c2>\u001b[0m in \u001b[0;36mprintout_predictions\u001b[0;34m(model)\u001b[0m\n\u001b[1;32m      8\u001b[0m     \u001b[0;32mfor\u001b[0m \u001b[0mi\u001b[0m \u001b[0;32min\u001b[0m \u001b[0mrange\u001b[0m\u001b[0;34m(\u001b[0m\u001b[0mlen\u001b[0m\u001b[0;34m(\u001b[0m\u001b[0mtest_non_df\u001b[0m\u001b[0;34m)\u001b[0m\u001b[0;34m)\u001b[0m\u001b[0;34m:\u001b[0m\u001b[0;34m\u001b[0m\u001b[0;34m\u001b[0m\u001b[0m\n\u001b[1;32m      9\u001b[0m         \u001b[0mtest_descr\u001b[0m \u001b[0;34m=\u001b[0m \u001b[0mtest_none_df\u001b[0m\u001b[0;34m.\u001b[0m\u001b[0miloc\u001b[0m\u001b[0;34m[\u001b[0m\u001b[0mi\u001b[0m\u001b[0;34m]\u001b[0m\u001b[0;34m[\u001b[0m\u001b[0;34m'description'\u001b[0m\u001b[0;34m]\u001b[0m\u001b[0;34m\u001b[0m\u001b[0;34m\u001b[0m\u001b[0m\n\u001b[0;32m---> 10\u001b[0;31m         \u001b[0mcleaned_test\u001b[0m \u001b[0;34m=\u001b[0m \u001b[0maggressively_clean_text\u001b[0m\u001b[0;34m(\u001b[0m\u001b[0mtest_descr\u001b[0m\u001b[0;34m)\u001b[0m\u001b[0;34m\u001b[0m\u001b[0;34m\u001b[0m\u001b[0m\n\u001b[0m\u001b[1;32m     11\u001b[0m         \u001b[0mprediction\u001b[0m \u001b[0;34m=\u001b[0m \u001b[0mmodel\u001b[0m\u001b[0;34m.\u001b[0m\u001b[0mpredict\u001b[0m\u001b[0;34m(\u001b[0m\u001b[0mcleaned_test\u001b[0m\u001b[0;34m)\u001b[0m\u001b[0;34m\u001b[0m\u001b[0;34m\u001b[0m\u001b[0m\n\u001b[1;32m     12\u001b[0m         \u001b[0mprint\u001b[0m\u001b[0;34m(\u001b[0m\u001b[0;34mf\"{i}: {cleaned_test[:100]}, prediction: {prediction}\"\u001b[0m\u001b[0;34m)\u001b[0m\u001b[0;34m\u001b[0m\u001b[0;34m\u001b[0m\u001b[0m\n",
      "\u001b[0;32m<ipython-input-9-27d61d5b15c0>\u001b[0m in \u001b[0;36maggressively_clean_text\u001b[0;34m(t)\u001b[0m\n\u001b[1;32m      1\u001b[0m \u001b[0;32mdef\u001b[0m \u001b[0maggressively_clean_text\u001b[0m\u001b[0;34m(\u001b[0m\u001b[0mt\u001b[0m\u001b[0;34m)\u001b[0m\u001b[0;34m:\u001b[0m\u001b[0;34m\u001b[0m\u001b[0;34m\u001b[0m\u001b[0m\n\u001b[0;32m----> 2\u001b[0;31m     \u001b[0mt\u001b[0m \u001b[0;34m=\u001b[0m \u001b[0mt\u001b[0m\u001b[0;34m.\u001b[0m\u001b[0mlower\u001b[0m\u001b[0;34m(\u001b[0m\u001b[0;34m)\u001b[0m\u001b[0;34m\u001b[0m\u001b[0;34m\u001b[0m\u001b[0m\n\u001b[0m\u001b[1;32m      3\u001b[0m     \u001b[0mt\u001b[0m \u001b[0;34m=\u001b[0m \u001b[0mre\u001b[0m\u001b[0;34m.\u001b[0m\u001b[0msub\u001b[0m\u001b[0;34m(\u001b[0m\u001b[0;34mr\"\\W\"\u001b[0m\u001b[0;34m,\u001b[0m \u001b[0;34m' '\u001b[0m\u001b[0;34m,\u001b[0m \u001b[0mt\u001b[0m\u001b[0;34m)\u001b[0m\u001b[0;34m\u001b[0m\u001b[0;34m\u001b[0m\u001b[0m\n\u001b[1;32m      4\u001b[0m     \u001b[0;32mreturn\u001b[0m \u001b[0mt\u001b[0m\u001b[0;34m\u001b[0m\u001b[0;34m\u001b[0m\u001b[0m\n",
      "\u001b[0;31mAttributeError\u001b[0m: 'float' object has no attribute 'lower'"
     ]
    }
   ],
   "source": [
    "printout_predictions(model)"
   ]
  },
  {
   "cell_type": "markdown",
   "metadata": {},
   "source": [
    "### This is like... orders of magnitude awesomely better. "
   ]
  },
  {
   "cell_type": "markdown",
   "metadata": {},
   "source": [
    "Let's save this model so that we can use it later! We'll give it a descriptive name. "
   ]
  },
  {
   "cell_type": "code",
   "execution_count": 112,
   "metadata": {},
   "outputs": [],
   "source": [
    "from datetime import datetime as dt\n",
    "timestamp = dt.now().strftime('%s')\n",
    "model_name = 'genre_class_' + timestamp + '.bin'\n",
    "model.save_model(model_name)"
   ]
  },
  {
   "cell_type": "markdown",
   "metadata": {},
   "source": [
    "But what was this model actually trained with? 'dump' exists as an option for fasttext as a command line option, but what about Python? "
   ]
  },
  {
   "cell_type": "markdown",
   "metadata": {},
   "source": [
    "Other features we could train with: \n",
    "- the title \n",
    "- the author \n",
    "- publisher"
   ]
  },
  {
   "cell_type": "code",
   "execution_count": 106,
   "metadata": {},
   "outputs": [],
   "source": [
    "pred_labels, confids = model.predict(\"woot woot thriller\", k=5)"
   ]
  },
  {
   "cell_type": "code",
   "execution_count": 108,
   "metadata": {},
   "outputs": [
    {
     "data": {
      "text/plain": [
       "<zip at 0x113ebbe60>"
      ]
     },
     "execution_count": 108,
     "metadata": {},
     "output_type": "execute_result"
    }
   ],
   "source": [
    "zip(pred_labels, confids)"
   ]
  },
  {
   "cell_type": "code",
   "execution_count": 110,
   "metadata": {},
   "outputs": [
    {
     "name": "stdout",
     "output_type": "stream",
     "text": [
      "Label: __label__thrillers, confidence: 0.9975988864898682\n",
      "Label: __label__crime, confidence: 0.0024166591465473175\n",
      "Label: __label__mystery___detective, confidence: 1.4523980098601896e-05\n",
      "Label: __label__action___adventure, confidence: 1.000365682557458e-05\n",
      "Label: __label__horror, confidence: 1.0000613656302448e-05\n"
     ]
    }
   ],
   "source": [
    "for label,confidence in zip(pred_labels, confids): \n",
    "    print(f\"Label: {label}, confidence: {confidence}\")"
   ]
  },
  {
   "cell_type": "code",
   "execution_count": 113,
   "metadata": {},
   "outputs": [
    {
     "name": "stderr",
     "output_type": "stream",
     "text": [
      "Warning : `load_model` does not return WordVectorModel or SupervisedModel any more, but a `FastText` object which is very similar.\n"
     ]
    }
   ],
   "source": [
    "model_ = fasttext.load_model('genre_class_1590302222.bin')"
   ]
  },
  {
   "cell_type": "code",
   "execution_count": 114,
   "metadata": {},
   "outputs": [
    {
     "data": {
      "text/plain": [
       "(('__label__personal_finance',), array([0.34182847]))"
      ]
     },
     "execution_count": 114,
     "metadata": {},
     "output_type": "execute_result"
    }
   ],
   "source": [
    "model_.predict('help')"
   ]
  },
  {
   "cell_type": "code",
   "execution_count": 115,
   "metadata": {},
   "outputs": [
    {
     "name": "stdout",
     "output_type": "stream",
     "text": [
      "[9.97598886e-01 2.41665915e-03 1.45239801e-05 1.00036568e-05\n",
      " 1.00006137e-05]\n"
     ]
    }
   ],
   "source": [
    "print(confids)"
   ]
  },
  {
   "cell_type": "code",
   "execution_count": 118,
   "metadata": {},
   "outputs": [
    {
     "name": "stdout",
     "output_type": "stream",
     "text": [
      "['__label__thrillers', '__label__crime', '__label__mystery___detective', '__label__action___adventure', '__label__horror']\n"
     ]
    }
   ],
   "source": [
    "print(list(pred_labels))"
   ]
  },
  {
   "cell_type": "code",
   "execution_count": null,
   "metadata": {},
   "outputs": [],
   "source": []
  }
 ],
 "metadata": {
  "jupytext": {
   "formats": "ipynb,py"
  },
  "kernelspec": {
   "display_name": "Python 3",
   "language": "python",
   "name": "python3"
  },
  "language_info": {
   "codemirror_mode": {
    "name": "ipython",
    "version": 3
   },
   "file_extension": ".py",
   "mimetype": "text/x-python",
   "name": "python",
   "nbconvert_exporter": "python",
   "pygments_lexer": "ipython3",
   "version": "3.7.7"
  }
 },
 "nbformat": 4,
 "nbformat_minor": 4
}
